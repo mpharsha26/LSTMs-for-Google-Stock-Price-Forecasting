{
 "cells": [
  {
   "cell_type": "code",
   "execution_count": 1,
   "metadata": {},
   "outputs": [],
   "source": [
    "import pandas as pd\n",
    "import matplotlib.pyplot as plt\n",
    "import numpy as np"
   ]
  },
  {
   "cell_type": "code",
   "execution_count": 2,
   "metadata": {},
   "outputs": [
    {
     "data": {
      "text/html": [
       "<div>\n",
       "<style scoped>\n",
       "    .dataframe tbody tr th:only-of-type {\n",
       "        vertical-align: middle;\n",
       "    }\n",
       "\n",
       "    .dataframe tbody tr th {\n",
       "        vertical-align: top;\n",
       "    }\n",
       "\n",
       "    .dataframe thead th {\n",
       "        text-align: right;\n",
       "    }\n",
       "</style>\n",
       "<table border=\"1\" class=\"dataframe\">\n",
       "  <thead>\n",
       "    <tr style=\"text-align: right;\">\n",
       "      <th></th>\n",
       "      <th>Date</th>\n",
       "      <th>Open</th>\n",
       "      <th>High</th>\n",
       "      <th>Low</th>\n",
       "      <th>Close</th>\n",
       "      <th>Volume</th>\n",
       "    </tr>\n",
       "  </thead>\n",
       "  <tbody>\n",
       "    <tr>\n",
       "      <th>0</th>\n",
       "      <td>1/3/2012</td>\n",
       "      <td>325.25</td>\n",
       "      <td>332.83</td>\n",
       "      <td>324.97</td>\n",
       "      <td>663.59</td>\n",
       "      <td>7,380,500</td>\n",
       "    </tr>\n",
       "    <tr>\n",
       "      <th>1</th>\n",
       "      <td>1/4/2012</td>\n",
       "      <td>331.27</td>\n",
       "      <td>333.87</td>\n",
       "      <td>329.08</td>\n",
       "      <td>666.45</td>\n",
       "      <td>5,749,400</td>\n",
       "    </tr>\n",
       "    <tr>\n",
       "      <th>2</th>\n",
       "      <td>1/5/2012</td>\n",
       "      <td>329.83</td>\n",
       "      <td>330.75</td>\n",
       "      <td>326.89</td>\n",
       "      <td>657.21</td>\n",
       "      <td>6,590,300</td>\n",
       "    </tr>\n",
       "    <tr>\n",
       "      <th>3</th>\n",
       "      <td>1/6/2012</td>\n",
       "      <td>328.34</td>\n",
       "      <td>328.77</td>\n",
       "      <td>323.68</td>\n",
       "      <td>648.24</td>\n",
       "      <td>5,405,900</td>\n",
       "    </tr>\n",
       "    <tr>\n",
       "      <th>4</th>\n",
       "      <td>1/9/2012</td>\n",
       "      <td>322.04</td>\n",
       "      <td>322.29</td>\n",
       "      <td>309.46</td>\n",
       "      <td>620.76</td>\n",
       "      <td>11,688,800</td>\n",
       "    </tr>\n",
       "  </tbody>\n",
       "</table>\n",
       "</div>"
      ],
      "text/plain": [
       "       Date    Open    High     Low   Close      Volume\n",
       "0  1/3/2012  325.25  332.83  324.97  663.59   7,380,500\n",
       "1  1/4/2012  331.27  333.87  329.08  666.45   5,749,400\n",
       "2  1/5/2012  329.83  330.75  326.89  657.21   6,590,300\n",
       "3  1/6/2012  328.34  328.77  323.68  648.24   5,405,900\n",
       "4  1/9/2012  322.04  322.29  309.46  620.76  11,688,800"
      ]
     },
     "execution_count": 2,
     "metadata": {},
     "output_type": "execute_result"
    }
   ],
   "source": [
    "dataset_train = pd.read_csv('Google_Stock_Price_Train.csv')\n",
    "dataset_train.head()"
   ]
  },
  {
   "cell_type": "code",
   "execution_count": 3,
   "metadata": {},
   "outputs": [
    {
     "name": "stdout",
     "output_type": "stream",
     "text": [
      "<class 'pandas.core.frame.DataFrame'>\n",
      "RangeIndex: 1258 entries, 0 to 1257\n",
      "Data columns (total 6 columns):\n",
      " #   Column  Non-Null Count  Dtype  \n",
      "---  ------  --------------  -----  \n",
      " 0   Date    1258 non-null   object \n",
      " 1   Open    1258 non-null   float64\n",
      " 2   High    1258 non-null   float64\n",
      " 3   Low     1258 non-null   float64\n",
      " 4   Close   1258 non-null   object \n",
      " 5   Volume  1258 non-null   object \n",
      "dtypes: float64(3), object(3)\n",
      "memory usage: 59.1+ KB\n"
     ]
    }
   ],
   "source": [
    "dataset_train.info()"
   ]
  },
  {
   "cell_type": "code",
   "execution_count": 4,
   "metadata": {},
   "outputs": [],
   "source": [
    "training_set = dataset_train['Open'].values\n",
    "training_set = training_set.reshape(len(training_set),1)"
   ]
  },
  {
   "cell_type": "code",
   "execution_count": 5,
   "metadata": {},
   "outputs": [
    {
     "data": {
      "text/plain": [
       "array([[325.25],\n",
       "       [331.27],\n",
       "       [329.83],\n",
       "       ...,\n",
       "       [793.7 ],\n",
       "       [783.33],\n",
       "       [782.75]])"
      ]
     },
     "execution_count": 5,
     "metadata": {},
     "output_type": "execute_result"
    }
   ],
   "source": [
    "training_set"
   ]
  },
  {
   "cell_type": "code",
   "execution_count": 6,
   "metadata": {},
   "outputs": [],
   "source": [
    "#applying feature scaling ( normalization ) on open stock price\n",
    "from sklearn.preprocessing import MinMaxScaler\n",
    "sc = MinMaxScaler(feature_range = (0,1))\n",
    "training_set_scaled = sc.fit_transform(training_set)"
   ]
  },
  {
   "cell_type": "code",
   "execution_count": 7,
   "metadata": {},
   "outputs": [
    {
     "data": {
      "text/plain": [
       "array([[0.08581368],\n",
       "       [0.09701243],\n",
       "       [0.09433366],\n",
       "       ...,\n",
       "       [0.95725128],\n",
       "       [0.93796041],\n",
       "       [0.93688146]])"
      ]
     },
     "execution_count": 7,
     "metadata": {},
     "output_type": "execute_result"
    }
   ],
   "source": [
    "training_set_scaled"
   ]
  },
  {
   "cell_type": "code",
   "execution_count": 8,
   "metadata": {},
   "outputs": [
    {
     "data": {
      "text/plain": [
       "array([0.07984225, 0.0643277 , 0.0585423 , 0.06568569])"
      ]
     },
     "execution_count": 8,
     "metadata": {},
     "output_type": "execute_result"
    }
   ],
   "source": [
    "training_set_scaled[4:8, 0]"
   ]
  },
  {
   "cell_type": "code",
   "execution_count": 9,
   "metadata": {},
   "outputs": [],
   "source": [
    "#creating a data structure with 60 timesteps and 1 output\n",
    "X_train, y_train = [], []\n",
    "for i in range(60, 1258):\n",
    "    X_train.append(training_set_scaled[i-60:i, 0])\n",
    "    y_train.append(training_set_scaled[i, 0])\n",
    "X_train, y_train = np.array(X_train), np.array(y_train)"
   ]
  },
  {
   "cell_type": "code",
   "execution_count": 10,
   "metadata": {},
   "outputs": [
    {
     "data": {
      "text/plain": [
       "array([0.08581368, 0.09701243, 0.09433366, 0.09156187, 0.07984225,\n",
       "       0.0643277 , 0.0585423 , 0.06568569, 0.06109085, 0.06639259,\n",
       "       0.0614257 , 0.07474514, 0.02797827, 0.02379269, 0.02409033,\n",
       "       0.0159238 , 0.01078949, 0.00967334, 0.01642607, 0.02100231,\n",
       "       0.02280676, 0.02273235, 0.02810849, 0.03212665, 0.0433812 ,\n",
       "       0.04475779, 0.04790163, 0.0440695 , 0.04648783, 0.04745517,\n",
       "       0.04873875, 0.03936305, 0.04137213, 0.04034898, 0.04784582,\n",
       "       0.04325099, 0.04356723, 0.04286033, 0.04602277, 0.05398467,\n",
       "       0.05738894, 0.05714711, 0.05569611, 0.04421832, 0.04514845,\n",
       "       0.04605997, 0.04412531, 0.03675869, 0.04486941, 0.05065481,\n",
       "       0.05214302, 0.05612397, 0.05818885, 0.06540665, 0.06882953,\n",
       "       0.07243843, 0.07993526, 0.07846566, 0.08034452, 0.08497656])"
      ]
     },
     "execution_count": 10,
     "metadata": {},
     "output_type": "execute_result"
    }
   ],
   "source": [
    "#first row corresponds to stockprice at the 60th financial day of our trainset \n",
    "#all these values are the previous stock prices before t = 60\n",
    "X_train[0]"
   ]
  },
  {
   "cell_type": "code",
   "execution_count": 11,
   "metadata": {},
   "outputs": [
    {
     "data": {
      "text/plain": [
       "0.08627874097775134"
      ]
     },
     "execution_count": 11,
     "metadata": {},
     "output_type": "execute_result"
    }
   ],
   "source": [
    "#based on the above 60 stock prices, we'll train our future RNN to predict the stock price at time t+1\n",
    "#stock price at time t+1 is nothing but this below one !! \n",
    "y_train[0]"
   ]
  },
  {
   "cell_type": "code",
   "execution_count": 12,
   "metadata": {},
   "outputs": [
    {
     "data": {
      "text/plain": [
       "(1198, 60)"
      ]
     },
     "execution_count": 12,
     "metadata": {},
     "output_type": "execute_result"
    }
   ],
   "source": [
    "X_train.shape"
   ]
  },
  {
   "cell_type": "code",
   "execution_count": 13,
   "metadata": {},
   "outputs": [],
   "source": [
    "#reshaping the array since keras expect a 3D array as input for RNN \n",
    "X_train = np.reshape(X_train, (X_train.shape[0], X_train.shape[1], 1))"
   ]
  },
  {
   "cell_type": "code",
   "execution_count": 14,
   "metadata": {},
   "outputs": [
    {
     "data": {
      "text/plain": [
       "(1198, 60, 1)"
      ]
     },
     "execution_count": 14,
     "metadata": {},
     "output_type": "execute_result"
    }
   ],
   "source": [
    "X_train.shape"
   ]
  },
  {
   "cell_type": "code",
   "execution_count": 15,
   "metadata": {},
   "outputs": [],
   "source": [
    "#Building the robust RNN\n",
    "from tensorflow.keras.models import Sequential\n",
    "from tensorflow.keras.layers import Dense\n",
    "from tensorflow.keras.layers import LSTM\n",
    "from tensorflow.keras.layers import Dropout\n"
   ]
  },
  {
   "cell_type": "code",
   "execution_count": 16,
   "metadata": {},
   "outputs": [],
   "source": [
    "#initialising the RNN as an instance of the sequential class\n",
    "regressor = Sequential()"
   ]
  },
  {
   "cell_type": "code",
   "execution_count": 17,
   "metadata": {},
   "outputs": [],
   "source": [
    "#adding the first LSTM layer and some Dropout regularisation\n",
    "#dropout regularisation is added to prevent overfitting \n",
    "regressor.add(LSTM(units = 50, return_sequences = True, input_shape = (X_train.shape[1], 1)))\n",
    "regressor.add(Dropout(rate = 0.1))"
   ]
  },
  {
   "cell_type": "code",
   "execution_count": 18,
   "metadata": {},
   "outputs": [],
   "source": [
    "#adding the 2nd LSTM layer with some dropout regularisation \n",
    "regressor.add(LSTM(units = 50, return_sequences = True))\n",
    "regressor.add(Dropout(rate = 0.1))"
   ]
  },
  {
   "cell_type": "code",
   "execution_count": 19,
   "metadata": {},
   "outputs": [],
   "source": [
    "#adding the 3rd LSTM layer along with some dropout regularisation\n",
    "regressor.add(LSTM(units = 50, return_sequences = True))\n",
    "regressor.add(Dropout(rate = 0.1))"
   ]
  },
  {
   "cell_type": "code",
   "execution_count": 20,
   "metadata": {},
   "outputs": [],
   "source": [
    "#adding our 4th LSTM layer and some dropout regularisation\n",
    "regressor.add(LSTM(units = 50))\n",
    "regressor.add(Dropout(rate = 0.2))\n",
    "\n",
    "#why return sequences is not set here ?? "
   ]
  },
  {
   "cell_type": "code",
   "execution_count": 21,
   "metadata": {},
   "outputs": [],
   "source": [
    "#adding the output layer \n",
    "regressor.add(Dense(units = 1))"
   ]
  },
  {
   "cell_type": "code",
   "execution_count": 22,
   "metadata": {},
   "outputs": [
    {
     "name": "stdout",
     "output_type": "stream",
     "text": [
      "Model: \"sequential\"\n",
      "_________________________________________________________________\n",
      "Layer (type)                 Output Shape              Param #   \n",
      "=================================================================\n",
      "lstm (LSTM)                  (None, 60, 50)            10400     \n",
      "_________________________________________________________________\n",
      "dropout (Dropout)            (None, 60, 50)            0         \n",
      "_________________________________________________________________\n",
      "lstm_1 (LSTM)                (None, 60, 50)            20200     \n",
      "_________________________________________________________________\n",
      "dropout_1 (Dropout)          (None, 60, 50)            0         \n",
      "_________________________________________________________________\n",
      "lstm_2 (LSTM)                (None, 60, 50)            20200     \n",
      "_________________________________________________________________\n",
      "dropout_2 (Dropout)          (None, 60, 50)            0         \n",
      "_________________________________________________________________\n",
      "lstm_3 (LSTM)                (None, 50)                20200     \n",
      "_________________________________________________________________\n",
      "dropout_3 (Dropout)          (None, 50)                0         \n",
      "_________________________________________________________________\n",
      "dense (Dense)                (None, 1)                 51        \n",
      "=================================================================\n",
      "Total params: 71,051\n",
      "Trainable params: 71,051\n",
      "Non-trainable params: 0\n",
      "_________________________________________________________________\n"
     ]
    }
   ],
   "source": [
    "regressor.summary()"
   ]
  },
  {
   "cell_type": "code",
   "execution_count": 23,
   "metadata": {},
   "outputs": [],
   "source": [
    "#attaching our RNN a powerful optimizer and a loss function\n",
    "regressor.compile(optimizer = 'adam', loss = 'mean_squared_error')"
   ]
  },
  {
   "cell_type": "code",
   "execution_count": 24,
   "metadata": {},
   "outputs": [
    {
     "name": "stdout",
     "output_type": "stream",
     "text": [
      "Train on 1198 samples\n",
      "Epoch 1/100\n",
      "1198/1198 [==============================] - 8s 7ms/sample - loss: 0.0414\n",
      "Epoch 2/100\n",
      "1198/1198 [==============================] - 0s 394us/sample - loss: 0.0064\n",
      "Epoch 3/100\n",
      "1198/1198 [==============================] - 0s 388us/sample - loss: 0.0050\n",
      "Epoch 4/100\n",
      "1198/1198 [==============================] - 0s 395us/sample - loss: 0.0056\n",
      "Epoch 5/100\n",
      "1198/1198 [==============================] - 0s 389us/sample - loss: 0.0050\n",
      "Epoch 6/100\n",
      "1198/1198 [==============================] - 0s 390us/sample - loss: 0.0044\n",
      "Epoch 7/100\n",
      "1198/1198 [==============================] - 0s 390us/sample - loss: 0.0047\n",
      "Epoch 8/100\n",
      "1198/1198 [==============================] - 0s 390us/sample - loss: 0.0048\n",
      "Epoch 9/100\n",
      "1198/1198 [==============================] - 0s 389us/sample - loss: 0.0041\n",
      "Epoch 10/100\n",
      "1198/1198 [==============================] - 0s 387us/sample - loss: 0.0037\n",
      "Epoch 11/100\n",
      "1198/1198 [==============================] - 0s 390us/sample - loss: 0.0040\n",
      "Epoch 12/100\n",
      "1198/1198 [==============================] - 0s 390us/sample - loss: 0.0038\n",
      "Epoch 13/100\n",
      "1198/1198 [==============================] - 0s 393us/sample - loss: 0.0039\n",
      "Epoch 14/100\n",
      "1198/1198 [==============================] - 0s 395us/sample - loss: 0.0036s - loss: 0\n",
      "Epoch 15/100\n",
      "1198/1198 [==============================] - 0s 391us/sample - loss: 0.0034\n",
      "Epoch 16/100\n",
      "1198/1198 [==============================] - 0s 389us/sample - loss: 0.0036\n",
      "Epoch 17/100\n",
      "1198/1198 [==============================] - 0s 395us/sample - loss: 0.0041\n",
      "Epoch 18/100\n",
      "1198/1198 [==============================] - 0s 395us/sample - loss: 0.0039\n",
      "Epoch 19/100\n",
      "1198/1198 [==============================] - 0s 394us/sample - loss: 0.0034\n",
      "Epoch 20/100\n",
      "1198/1198 [==============================] - 0s 396us/sample - loss: 0.0035\n",
      "Epoch 21/100\n",
      "1198/1198 [==============================] - 2s 1ms/sample - loss: 0.0031\n",
      "Epoch 22/100\n",
      "1198/1198 [==============================] - 1s 826us/sample - loss: 0.0035\n",
      "Epoch 23/100\n",
      "1198/1198 [==============================] - 0s 390us/sample - loss: 0.0030\n",
      "Epoch 24/100\n",
      "1198/1198 [==============================] - 0s 400us/sample - loss: 0.0030\n",
      "Epoch 25/100\n",
      "1198/1198 [==============================] - 0s 396us/sample - loss: 0.0033\n",
      "Epoch 26/100\n",
      "1198/1198 [==============================] - 0s 396us/sample - loss: 0.0029\n",
      "Epoch 27/100\n",
      "1198/1198 [==============================] - 0s 398us/sample - loss: 0.0033\n",
      "Epoch 28/100\n",
      "1198/1198 [==============================] - 1s 769us/sample - loss: 0.0034\n",
      "Epoch 29/100\n",
      "1198/1198 [==============================] - 2s 1ms/sample - loss: 0.0028\n",
      "Epoch 30/100\n",
      "1198/1198 [==============================] - 0s 389us/sample - loss: 0.0031\n",
      "Epoch 31/100\n",
      "1198/1198 [==============================] - 0s 392us/sample - loss: 0.0028\n",
      "Epoch 32/100\n",
      "1198/1198 [==============================] - 0s 405us/sample - loss: 0.0029\n",
      "Epoch 33/100\n",
      "1198/1198 [==============================] - 0s 400us/sample - loss: 0.0026\n",
      "Epoch 34/100\n",
      "1198/1198 [==============================] - 0s 400us/sample - loss: 0.0028\n",
      "Epoch 35/100\n",
      "1198/1198 [==============================] - 0s 398us/sample - loss: 0.0031\n",
      "Epoch 36/100\n",
      "1198/1198 [==============================] - 2s 2ms/sample - loss: 0.0035\n",
      "Epoch 37/100\n",
      "1198/1198 [==============================] - 0s 413us/sample - loss: 0.0037\n",
      "Epoch 38/100\n",
      "1198/1198 [==============================] - 0s 390us/sample - loss: 0.0027\n",
      "Epoch 39/100\n",
      "1198/1198 [==============================] - 0s 400us/sample - loss: 0.0026\n",
      "Epoch 40/100\n",
      "1198/1198 [==============================] - 0s 407us/sample - loss: 0.0027\n",
      "Epoch 41/100\n",
      "1198/1198 [==============================] - 0s 407us/sample - loss: 0.0027\n",
      "Epoch 42/100\n",
      "1198/1198 [==============================] - 0s 400us/sample - loss: 0.0025\n",
      "Epoch 43/100\n",
      "1198/1198 [==============================] - 0s 404us/sample - loss: 0.0028\n",
      "Epoch 44/100\n",
      "1198/1198 [==============================] - 0s 398us/sample - loss: 0.0024\n",
      "Epoch 45/100\n",
      "1198/1198 [==============================] - 0s 410us/sample - loss: 0.0022\n",
      "Epoch 46/100\n",
      "1198/1198 [==============================] - 0s 408us/sample - loss: 0.0022\n",
      "Epoch 47/100\n",
      "1198/1198 [==============================] - 0s 409us/sample - loss: 0.0023\n",
      "Epoch 48/100\n",
      "1198/1198 [==============================] - 0s 409us/sample - loss: 0.0022\n",
      "Epoch 49/100\n",
      "1198/1198 [==============================] - 0s 408us/sample - loss: 0.0024\n",
      "Epoch 50/100\n",
      "1198/1198 [==============================] - 0s 402us/sample - loss: 0.0021\n",
      "Epoch 51/100\n",
      "1198/1198 [==============================] - 0s 414us/sample - loss: 0.0024\n",
      "Epoch 52/100\n",
      "1198/1198 [==============================] - 0s 414us/sample - loss: 0.0024\n",
      "Epoch 53/100\n",
      "1198/1198 [==============================] - 1s 916us/sample - loss: 0.0022\n",
      "Epoch 54/100\n",
      "1198/1198 [==============================] - 1s 1ms/sample - loss: 0.0022\n",
      "Epoch 55/100\n",
      "1198/1198 [==============================] - 0s 391us/sample - loss: 0.0021\n",
      "Epoch 56/100\n",
      "1198/1198 [==============================] - 0s 406us/sample - loss: 0.0020\n",
      "Epoch 57/100\n",
      "1198/1198 [==============================] - 0s 405us/sample - loss: 0.0019\n",
      "Epoch 58/100\n",
      "1198/1198 [==============================] - 0s 406us/sample - loss: 0.0021\n",
      "Epoch 59/100\n",
      "1198/1198 [==============================] - 0s 404us/sample - loss: 0.0021\n",
      "Epoch 60/100\n",
      "1198/1198 [==============================] - 1s 575us/sample - loss: 0.0021\n",
      "Epoch 61/100\n",
      "1198/1198 [==============================] - 2s 2ms/sample - loss: 0.0022\n",
      "Epoch 62/100\n",
      "1198/1198 [==============================] - 0s 387us/sample - loss: 0.0019\n",
      "Epoch 63/100\n",
      "1198/1198 [==============================] - ETA: 0s - loss: 0.002 - 0s 400us/sample - loss: 0.0020\n",
      "Epoch 64/100\n",
      "1198/1198 [==============================] - 0s 405us/sample - loss: 0.0019\n",
      "Epoch 65/100\n",
      "1198/1198 [==============================] - 0s 403us/sample - loss: 0.0019\n",
      "Epoch 66/100\n",
      "1198/1198 [==============================] - 0s 405us/sample - loss: 0.0020\n",
      "Epoch 67/100\n",
      "1198/1198 [==============================] - 0s 409us/sample - loss: 0.0018\n",
      "Epoch 68/100\n",
      "1198/1198 [==============================] - 2s 2ms/sample - loss: 0.0018\n",
      "Epoch 69/100\n",
      "1198/1198 [==============================] - 1s 519us/sample - loss: 0.0018\n",
      "Epoch 70/100\n",
      "1198/1198 [==============================] - 0s 402us/sample - loss: 0.0017\n",
      "Epoch 71/100\n",
      "1198/1198 [==============================] - 0s 405us/sample - loss: 0.0017\n",
      "Epoch 72/100\n",
      "1198/1198 [==============================] - 0s 405us/sample - loss: 0.0017\n",
      "Epoch 73/100\n",
      "1198/1198 [==============================] - 0s 408us/sample - loss: 0.0017\n",
      "Epoch 74/100\n",
      "1198/1198 [==============================] - 0s 403us/sample - loss: 0.0017\n",
      "Epoch 75/100\n",
      "1198/1198 [==============================] - 1s 1ms/sample - loss: 0.0018\n",
      "Epoch 76/100\n",
      "1198/1198 [==============================] - 1s 835us/sample - loss: 0.0016\n",
      "Epoch 77/100\n",
      "1198/1198 [==============================] - 0s 400us/sample - loss: 0.0015\n",
      "Epoch 78/100\n",
      "1198/1198 [==============================] - 0s 400us/sample - loss: 0.0016\n",
      "Epoch 79/100\n",
      "1198/1198 [==============================] - 0s 408us/sample - loss: 0.0018\n",
      "Epoch 80/100\n",
      "1198/1198 [==============================] - 0s 408us/sample - loss: 0.0015\n",
      "Epoch 81/100\n",
      "1198/1198 [==============================] - 0s 410us/sample - loss: 0.0016\n",
      "Epoch 82/100\n",
      "1198/1198 [==============================] - 1s 972us/sample - loss: 0.0015\n",
      "Epoch 83/100\n",
      "1198/1198 [==============================] - 1s 1ms/sample - loss: 0.0014\n",
      "Epoch 84/100\n",
      "1198/1198 [==============================] - 0s 395us/sample - loss: 0.0014\n",
      "Epoch 85/100\n",
      "1198/1198 [==============================] - 0s 410us/sample - loss: 0.0015\n",
      "Epoch 86/100\n",
      "1198/1198 [==============================] - 0s 407us/sample - loss: 0.0015\n",
      "Epoch 87/100\n",
      "1198/1198 [==============================] - 1s 420us/sample - loss: 0.0015\n",
      "Epoch 88/100\n",
      "1198/1198 [==============================] - 0s 409us/sample - loss: 0.0015\n",
      "Epoch 89/100\n",
      "1198/1198 [==============================] - 0s 416us/sample - loss: 0.0013\n",
      "Epoch 90/100\n",
      "1198/1198 [==============================] - 0s 415us/sample - loss: 0.0016\n",
      "Epoch 91/100\n",
      "1198/1198 [==============================] - 1s 724us/sample - loss: 0.0015\n",
      "Epoch 92/100\n",
      "1198/1198 [==============================] - 2s 1ms/sample - loss: 0.0015\n",
      "Epoch 93/100\n",
      "1198/1198 [==============================] - 0s 398us/sample - loss: 0.0012\n",
      "Epoch 94/100\n",
      "1198/1198 [==============================] - 0s 412us/sample - loss: 0.0014\n",
      "Epoch 95/100\n",
      "1198/1198 [==============================] - 0s 412us/sample - loss: 0.0014\n",
      "Epoch 96/100\n",
      "1198/1198 [==============================] - 0s 413us/sample - loss: 0.0015\n",
      "Epoch 97/100\n",
      "1198/1198 [==============================] - 0s 411us/sample - loss: 0.0013\n",
      "Epoch 98/100\n",
      "1198/1198 [==============================] - 0s 404us/sample - loss: 0.0013\n",
      "Epoch 99/100\n",
      "1198/1198 [==============================] - 0s 409us/sample - loss: 0.0013\n",
      "Epoch 100/100\n",
      "1198/1198 [==============================] - 1s 435us/sample - loss: 0.0012\n"
     ]
    },
    {
     "data": {
      "text/plain": [
       "<tensorflow.python.keras.callbacks.History at 0x265760ac208>"
      ]
     },
     "execution_count": 24,
     "metadata": {},
     "output_type": "execute_result"
    }
   ],
   "source": [
    "#fitting our model to the training set\n",
    "regressor.fit(X_train, y_train, epochs = 100, batch_size = 32)"
   ]
  },
  {
   "cell_type": "code",
   "execution_count": 25,
   "metadata": {},
   "outputs": [
    {
     "data": {
      "text/html": [
       "<div>\n",
       "<style scoped>\n",
       "    .dataframe tbody tr th:only-of-type {\n",
       "        vertical-align: middle;\n",
       "    }\n",
       "\n",
       "    .dataframe tbody tr th {\n",
       "        vertical-align: top;\n",
       "    }\n",
       "\n",
       "    .dataframe thead th {\n",
       "        text-align: right;\n",
       "    }\n",
       "</style>\n",
       "<table border=\"1\" class=\"dataframe\">\n",
       "  <thead>\n",
       "    <tr style=\"text-align: right;\">\n",
       "      <th></th>\n",
       "      <th>Date</th>\n",
       "      <th>Open</th>\n",
       "      <th>High</th>\n",
       "      <th>Low</th>\n",
       "      <th>Close</th>\n",
       "      <th>Volume</th>\n",
       "    </tr>\n",
       "  </thead>\n",
       "  <tbody>\n",
       "    <tr>\n",
       "      <th>0</th>\n",
       "      <td>1/3/2017</td>\n",
       "      <td>778.81</td>\n",
       "      <td>789.63</td>\n",
       "      <td>775.80</td>\n",
       "      <td>786.14</td>\n",
       "      <td>1,657,300</td>\n",
       "    </tr>\n",
       "    <tr>\n",
       "      <th>1</th>\n",
       "      <td>1/4/2017</td>\n",
       "      <td>788.36</td>\n",
       "      <td>791.34</td>\n",
       "      <td>783.16</td>\n",
       "      <td>786.90</td>\n",
       "      <td>1,073,000</td>\n",
       "    </tr>\n",
       "    <tr>\n",
       "      <th>2</th>\n",
       "      <td>1/5/2017</td>\n",
       "      <td>786.08</td>\n",
       "      <td>794.48</td>\n",
       "      <td>785.02</td>\n",
       "      <td>794.02</td>\n",
       "      <td>1,335,200</td>\n",
       "    </tr>\n",
       "    <tr>\n",
       "      <th>3</th>\n",
       "      <td>1/6/2017</td>\n",
       "      <td>795.26</td>\n",
       "      <td>807.90</td>\n",
       "      <td>792.20</td>\n",
       "      <td>806.15</td>\n",
       "      <td>1,640,200</td>\n",
       "    </tr>\n",
       "    <tr>\n",
       "      <th>4</th>\n",
       "      <td>1/9/2017</td>\n",
       "      <td>806.40</td>\n",
       "      <td>809.97</td>\n",
       "      <td>802.83</td>\n",
       "      <td>806.65</td>\n",
       "      <td>1,272,400</td>\n",
       "    </tr>\n",
       "  </tbody>\n",
       "</table>\n",
       "</div>"
      ],
      "text/plain": [
       "       Date    Open    High     Low   Close     Volume\n",
       "0  1/3/2017  778.81  789.63  775.80  786.14  1,657,300\n",
       "1  1/4/2017  788.36  791.34  783.16  786.90  1,073,000\n",
       "2  1/5/2017  786.08  794.48  785.02  794.02  1,335,200\n",
       "3  1/6/2017  795.26  807.90  792.20  806.15  1,640,200\n",
       "4  1/9/2017  806.40  809.97  802.83  806.65  1,272,400"
      ]
     },
     "execution_count": 25,
     "metadata": {},
     "output_type": "execute_result"
    }
   ],
   "source": [
    "#importing the real Google stock price of 2017\n",
    "dataset_test = pd.read_csv('Google_Stock_Price_Test.csv')\n",
    "dataset_test.head()"
   ]
  },
  {
   "cell_type": "code",
   "execution_count": 26,
   "metadata": {},
   "outputs": [
    {
     "name": "stdout",
     "output_type": "stream",
     "text": [
      "<class 'pandas.core.frame.DataFrame'>\n",
      "RangeIndex: 20 entries, 0 to 19\n",
      "Data columns (total 6 columns):\n",
      " #   Column  Non-Null Count  Dtype  \n",
      "---  ------  --------------  -----  \n",
      " 0   Date    20 non-null     object \n",
      " 1   Open    20 non-null     float64\n",
      " 2   High    20 non-null     float64\n",
      " 3   Low     20 non-null     float64\n",
      " 4   Close   20 non-null     float64\n",
      " 5   Volume  20 non-null     object \n",
      "dtypes: float64(4), object(2)\n",
      "memory usage: 1.1+ KB\n"
     ]
    }
   ],
   "source": [
    "dataset_test.info()"
   ]
  },
  {
   "cell_type": "code",
   "execution_count": 27,
   "metadata": {},
   "outputs": [],
   "source": [
    "realStockPrice = dataset_test['Open'].values\n",
    "realStockPrice = realStockPrice.reshape(len(realStockPrice),1)"
   ]
  },
  {
   "cell_type": "code",
   "execution_count": 28,
   "metadata": {},
   "outputs": [
    {
     "data": {
      "text/plain": [
       "array([[778.81],\n",
       "       [788.36],\n",
       "       [786.08],\n",
       "       [795.26],\n",
       "       [806.4 ],\n",
       "       [807.86],\n",
       "       [805.  ],\n",
       "       [807.14],\n",
       "       [807.48],\n",
       "       [807.08],\n",
       "       [805.81],\n",
       "       [805.12],\n",
       "       [806.91],\n",
       "       [807.25],\n",
       "       [822.3 ],\n",
       "       [829.62],\n",
       "       [837.81],\n",
       "       [834.71],\n",
       "       [814.66],\n",
       "       [796.86]])"
      ]
     },
     "execution_count": 28,
     "metadata": {},
     "output_type": "execute_result"
    }
   ],
   "source": [
    "realStockPrice"
   ]
  },
  {
   "cell_type": "code",
   "execution_count": 29,
   "metadata": {},
   "outputs": [
    {
     "data": {
      "text/plain": [
       "0     325.25\n",
       "1     331.27\n",
       "2     329.83\n",
       "3     328.34\n",
       "4     322.04\n",
       "       ...  \n",
       "15    829.62\n",
       "16    837.81\n",
       "17    834.71\n",
       "18    814.66\n",
       "19    796.86\n",
       "Name: Open, Length: 1278, dtype: float64"
      ]
     },
     "execution_count": 29,
     "metadata": {},
     "output_type": "execute_result"
    }
   ],
   "source": [
    "#getting the predicted stock price of 2017\n",
    "dataset_total = pd.concat((dataset_train['Open'], dataset_test['Open']), axis = 0)\n",
    "dataset_total"
   ]
  },
  {
   "cell_type": "code",
   "execution_count": 30,
   "metadata": {},
   "outputs": [
    {
     "data": {
      "text/plain": [
       "array([779.  , 779.66, 777.71, 786.66, 783.76, 781.22, 781.65, 779.8 ,\n",
       "       787.85, 798.24, 803.3 , 795.  , 804.9 , 816.68, 806.34, 801.  ,\n",
       "       808.35, 795.47, 782.89, 778.2 , 767.25, 750.66, 774.5 , 783.4 ,\n",
       "       779.94, 791.17, 756.54, 755.6 , 746.97, 755.2 , 766.92, 771.37,\n",
       "       762.61, 772.63, 767.73, 764.26, 760.  , 771.53, 770.07, 757.44,\n",
       "       744.59, 757.71, 764.73, 761.  , 772.48, 780.  , 785.04, 793.9 ,\n",
       "       797.4 , 797.34, 800.4 , 790.22, 796.76, 795.84, 792.36, 790.9 ,\n",
       "       790.68, 793.7 , 783.33, 782.75, 778.81, 788.36, 786.08, 795.26,\n",
       "       806.4 , 807.86, 805.  , 807.14, 807.48, 807.08, 805.81, 805.12,\n",
       "       806.91, 807.25, 822.3 , 829.62, 837.81, 834.71, 814.66, 796.86])"
      ]
     },
     "execution_count": 30,
     "metadata": {},
     "output_type": "execute_result"
    }
   ],
   "source": [
    "inputs = dataset_total[len(dataset_total) - len(dataset_test) - 60:].values\n",
    "inputs"
   ]
  },
  {
   "cell_type": "code",
   "execution_count": 31,
   "metadata": {},
   "outputs": [
    {
     "data": {
      "text/plain": [
       "array([[779.  ],\n",
       "       [779.66],\n",
       "       [777.71],\n",
       "       [786.66],\n",
       "       [783.76],\n",
       "       [781.22],\n",
       "       [781.65],\n",
       "       [779.8 ],\n",
       "       [787.85],\n",
       "       [798.24],\n",
       "       [803.3 ],\n",
       "       [795.  ],\n",
       "       [804.9 ],\n",
       "       [816.68],\n",
       "       [806.34],\n",
       "       [801.  ],\n",
       "       [808.35],\n",
       "       [795.47],\n",
       "       [782.89],\n",
       "       [778.2 ],\n",
       "       [767.25],\n",
       "       [750.66],\n",
       "       [774.5 ],\n",
       "       [783.4 ],\n",
       "       [779.94],\n",
       "       [791.17],\n",
       "       [756.54],\n",
       "       [755.6 ],\n",
       "       [746.97],\n",
       "       [755.2 ],\n",
       "       [766.92],\n",
       "       [771.37],\n",
       "       [762.61],\n",
       "       [772.63],\n",
       "       [767.73],\n",
       "       [764.26],\n",
       "       [760.  ],\n",
       "       [771.53],\n",
       "       [770.07],\n",
       "       [757.44],\n",
       "       [744.59],\n",
       "       [757.71],\n",
       "       [764.73],\n",
       "       [761.  ],\n",
       "       [772.48],\n",
       "       [780.  ],\n",
       "       [785.04],\n",
       "       [793.9 ],\n",
       "       [797.4 ],\n",
       "       [797.34],\n",
       "       [800.4 ],\n",
       "       [790.22],\n",
       "       [796.76],\n",
       "       [795.84],\n",
       "       [792.36],\n",
       "       [790.9 ],\n",
       "       [790.68],\n",
       "       [793.7 ],\n",
       "       [783.33],\n",
       "       [782.75],\n",
       "       [778.81],\n",
       "       [788.36],\n",
       "       [786.08],\n",
       "       [795.26],\n",
       "       [806.4 ],\n",
       "       [807.86],\n",
       "       [805.  ],\n",
       "       [807.14],\n",
       "       [807.48],\n",
       "       [807.08],\n",
       "       [805.81],\n",
       "       [805.12],\n",
       "       [806.91],\n",
       "       [807.25],\n",
       "       [822.3 ],\n",
       "       [829.62],\n",
       "       [837.81],\n",
       "       [834.71],\n",
       "       [814.66],\n",
       "       [796.86]])"
      ]
     },
     "execution_count": 31,
     "metadata": {},
     "output_type": "execute_result"
    }
   ],
   "source": [
    "inputs = inputs.reshape(-1,1)\n",
    "inputs"
   ]
  },
  {
   "cell_type": "code",
   "execution_count": 32,
   "metadata": {},
   "outputs": [
    {
     "data": {
      "text/plain": [
       "array([[0.9299055 ],\n",
       "       [0.93113327],\n",
       "       [0.92750577],\n",
       "       [0.94415507],\n",
       "       [0.93876032],\n",
       "       [0.93403527],\n",
       "       [0.93483518],\n",
       "       [0.9313937 ],\n",
       "       [0.94636878],\n",
       "       [0.96569685],\n",
       "       [0.97510976],\n",
       "       [0.95966962],\n",
       "       [0.97808617],\n",
       "       [1.        ],\n",
       "       [0.98076494],\n",
       "       [0.97083116],\n",
       "       [0.98450406],\n",
       "       [0.96054394],\n",
       "       [0.9371419 ],\n",
       "       [0.92841729],\n",
       "       [0.90804747],\n",
       "       [0.8771858 ],\n",
       "       [0.92153434],\n",
       "       [0.93809063],\n",
       "       [0.93165414],\n",
       "       [0.95254483],\n",
       "       [0.88812412],\n",
       "       [0.88637547],\n",
       "       [0.87032145],\n",
       "       [0.88563137],\n",
       "       [0.90743359],\n",
       "       [0.91571173],\n",
       "       [0.89941588],\n",
       "       [0.91805566],\n",
       "       [0.9089404 ],\n",
       "       [0.9024853 ],\n",
       "       [0.89456061],\n",
       "       [0.91600938],\n",
       "       [0.9132934 ],\n",
       "       [0.88979835],\n",
       "       [0.86589404],\n",
       "       [0.89030062],\n",
       "       [0.90335962],\n",
       "       [0.89642086],\n",
       "       [0.91777662],\n",
       "       [0.93176576],\n",
       "       [0.94114145],\n",
       "       [0.95762334],\n",
       "       [0.96413424],\n",
       "       [0.96402262],\n",
       "       [0.96971501],\n",
       "       [0.95077759],\n",
       "       [0.96294367],\n",
       "       [0.96123223],\n",
       "       [0.95475854],\n",
       "       [0.95204256],\n",
       "       [0.95163331],\n",
       "       [0.95725128],\n",
       "       [0.93796041],\n",
       "       [0.93688146],\n",
       "       [0.92955205],\n",
       "       [0.94731751],\n",
       "       [0.94307612],\n",
       "       [0.96015329],\n",
       "       [0.98087655],\n",
       "       [0.98359253],\n",
       "       [0.97827219],\n",
       "       [0.98225314],\n",
       "       [0.98288563],\n",
       "       [0.98214153],\n",
       "       [0.979779  ],\n",
       "       [0.97849542],\n",
       "       [0.98182528],\n",
       "       [0.98245777],\n",
       "       [1.01045465],\n",
       "       [1.02407173],\n",
       "       [1.03930724],\n",
       "       [1.03354044],\n",
       "       [0.99624228],\n",
       "       [0.9631297 ]])"
      ]
     },
     "execution_count": 32,
     "metadata": {},
     "output_type": "execute_result"
    }
   ],
   "source": [
    "#scaling these inputs\n",
    "inputs = sc.transform(inputs)\n",
    "inputs"
   ]
  },
  {
   "cell_type": "code",
   "execution_count": 33,
   "metadata": {},
   "outputs": [
    {
     "data": {
      "text/plain": [
       "80"
      ]
     },
     "execution_count": 33,
     "metadata": {},
     "output_type": "execute_result"
    }
   ],
   "source": [
    "len(inputs)"
   ]
  },
  {
   "cell_type": "code",
   "execution_count": 34,
   "metadata": {},
   "outputs": [],
   "source": [
    "#creating a data structure with 60 timesteps for test set\n",
    "X_test = []\n",
    "for i in range(60, 80):\n",
    "    X_test.append(inputs[i-60:i, 0])\n",
    "X_test = np.array(X_test)"
   ]
  },
  {
   "cell_type": "code",
   "execution_count": 35,
   "metadata": {},
   "outputs": [
    {
     "data": {
      "text/plain": [
       "array([0.9299055 , 0.93113327, 0.92750577, 0.94415507, 0.93876032,\n",
       "       0.93403527, 0.93483518, 0.9313937 , 0.94636878, 0.96569685,\n",
       "       0.97510976, 0.95966962, 0.97808617, 1.        , 0.98076494,\n",
       "       0.97083116, 0.98450406, 0.96054394, 0.9371419 , 0.92841729,\n",
       "       0.90804747, 0.8771858 , 0.92153434, 0.93809063, 0.93165414,\n",
       "       0.95254483, 0.88812412, 0.88637547, 0.87032145, 0.88563137,\n",
       "       0.90743359, 0.91571173, 0.89941588, 0.91805566, 0.9089404 ,\n",
       "       0.9024853 , 0.89456061, 0.91600938, 0.9132934 , 0.88979835,\n",
       "       0.86589404, 0.89030062, 0.90335962, 0.89642086, 0.91777662,\n",
       "       0.93176576, 0.94114145, 0.95762334, 0.96413424, 0.96402262,\n",
       "       0.96971501, 0.95077759, 0.96294367, 0.96123223, 0.95475854,\n",
       "       0.95204256, 0.95163331, 0.95725128, 0.93796041, 0.93688146])"
      ]
     },
     "execution_count": 35,
     "metadata": {},
     "output_type": "execute_result"
    }
   ],
   "source": [
    "#these are the previous 60 stock prices of the first financial day of Jan, 2017\n",
    "#basically this is the last 3 months data from the train set\n",
    "X_test[0]"
   ]
  },
  {
   "cell_type": "code",
   "execution_count": 36,
   "metadata": {},
   "outputs": [
    {
     "data": {
      "text/plain": [
       "(20, 60)"
      ]
     },
     "execution_count": 36,
     "metadata": {},
     "output_type": "execute_result"
    }
   ],
   "source": [
    "X_test.shape"
   ]
  },
  {
   "cell_type": "code",
   "execution_count": 37,
   "metadata": {},
   "outputs": [
    {
     "data": {
      "text/plain": [
       "(20, 60, 1)"
      ]
     },
     "execution_count": 37,
     "metadata": {},
     "output_type": "execute_result"
    }
   ],
   "source": [
    "#reshaping into 3D \n",
    "X_test = X_test.reshape(X_test.shape[0], X_test.shape[1], 1)\n",
    "X_test.shape"
   ]
  },
  {
   "cell_type": "code",
   "execution_count": 38,
   "metadata": {},
   "outputs": [
    {
     "data": {
      "text/plain": [
       "0.9299054989210507"
      ]
     },
     "execution_count": 38,
     "metadata": {},
     "output_type": "execute_result"
    }
   ],
   "source": [
    "X_test[0][0][0]"
   ]
  },
  {
   "cell_type": "code",
   "execution_count": 39,
   "metadata": {},
   "outputs": [
    {
     "data": {
      "text/plain": [
       "array([[770.6945 ],\n",
       "       [767.51166],\n",
       "       [767.7084 ],\n",
       "       [769.1085 ],\n",
       "       [772.53265],\n",
       "       [778.6009 ],\n",
       "       [783.8288 ],\n",
       "       [785.26984],\n",
       "       [784.6336 ],\n",
       "       [783.53754],\n",
       "       [782.7248 ],\n",
       "       [782.19037],\n",
       "       [782.00085],\n",
       "       [782.7971 ],\n",
       "       [784.15564],\n",
       "       [789.6215 ],\n",
       "       [797.4495 ],\n",
       "       [805.4191 ],\n",
       "       [809.149  ],\n",
       "       [803.5509 ]], dtype=float32)"
      ]
     },
     "execution_count": 39,
     "metadata": {},
     "output_type": "execute_result"
    }
   ],
   "source": [
    "#predicting the stock prices of Jan, 2017 and scaling it back\n",
    "predictedStockPrice = sc.inverse_transform(regressor.predict(X_test))\n",
    "predictedStockPrice"
   ]
  },
  {
   "cell_type": "code",
   "execution_count": 40,
   "metadata": {},
   "outputs": [],
   "source": [
    "train_plot = sc.inverse_transform(regressor.predict(X_train))"
   ]
  },
  {
   "cell_type": "code",
   "execution_count": 41,
   "metadata": {},
   "outputs": [
    {
     "data": {
      "image/png": "[encoded data removed]",
      "text/plain": [
       "<Figure size 432x288 with 1 Axes>"
      ]
     },
     "metadata": {
      "needs_background": "light"
     },
     "output_type": "display_data"
    }
   ],
   "source": [
    "#Visualising the predictions over the real stock prices\n",
    "plt.plot(realStockPrice, color = 'red', label = 'Real Google Stock Price')\n",
    "plt.plot(predictedStockPrice, color = 'blue', label = 'Predicted Google Stock Price')\n",
    "plt.title('Google Stock Price Prediction')\n",
    "plt.xlabel('Time')\n",
    "plt.ylabel('Google Stock Price')\n",
    "plt.ylim((0, 850))\n",
    "plt.legend()\n",
    "plt.show()"
   ]
  },
  {
   "cell_type": "code",
   "execution_count": 42,
   "metadata": {},
   "outputs": [],
   "source": [
    "import math\n",
    "from sklearn.metrics import mean_squared_error\n",
    "rmse = math.sqrt(mean_squared_error(realStockPrice, predictedStockPrice))"
   ]
  },
  {
   "cell_type": "code",
   "execution_count": 43,
   "metadata": {},
   "outputs": [
    {
     "data": {
      "text/plain": [
       "25.905394844175376"
      ]
     },
     "execution_count": 43,
     "metadata": {},
     "output_type": "execute_result"
    }
   ],
   "source": [
    "rmse"
   ]
  },
  {
   "cell_type": "code",
   "execution_count": 44,
   "metadata": {},
   "outputs": [],
   "source": [
    "#17.1967\n",
    "#21.4810"
   ]
  },
  {
   "cell_type": "code",
   "execution_count": 45,
   "metadata": {},
   "outputs": [],
   "source": [
    "#Understanding the test train split\n",
    "#Diffent parameter setting \n",
    "#Explore Grid search CV\n",
    "#Explore different models in RNN \n",
    "#compare with same parameter setting\n",
    "#4 W and 1 H"
   ]
  },
  {
   "cell_type": "code",
   "execution_count": null,
   "metadata": {},
   "outputs": [],
   "source": []
  }
 ],
 "metadata": {
  "kernelspec": {
   "display_name": "Python 3.7 (tensorflow)",
   "language": "python",
   "name": "tensorflow"
  },
  "language_info": {
   "codemirror_mode": {
    "name": "ipython",
    "version": 3
   },
   "file_extension": ".py",
   "mimetype": "text/x-python",
   "name": "python",
   "nbconvert_exporter": "python",
   "pygments_lexer": "ipython3",
   "version": "3.7.7"
  }
 },
 "nbformat": 4,
 "nbformat_minor": 4
}

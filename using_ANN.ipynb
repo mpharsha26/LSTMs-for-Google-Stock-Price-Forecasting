{
 "cells": [
  {
   "cell_type": "code",
   "execution_count": 1,
   "metadata": {},
   "outputs": [],
   "source": [
    "import pandas as pd\n",
    "import matplotlib.pyplot as plt\n",
    "import numpy as np"
   ]
  },
  {
   "cell_type": "code",
   "execution_count": 2,
   "metadata": {},
   "outputs": [
    {
     "data": {
      "text/html": [
       "<div>\n",
       "<style scoped>\n",
       "    .dataframe tbody tr th:only-of-type {\n",
       "        vertical-align: middle;\n",
       "    }\n",
       "\n",
       "    .dataframe tbody tr th {\n",
       "        vertical-align: top;\n",
       "    }\n",
       "\n",
       "    .dataframe thead th {\n",
       "        text-align: right;\n",
       "    }\n",
       "</style>\n",
       "<table border=\"1\" class=\"dataframe\">\n",
       "  <thead>\n",
       "    <tr style=\"text-align: right;\">\n",
       "      <th></th>\n",
       "      <th>Date</th>\n",
       "      <th>Open</th>\n",
       "      <th>High</th>\n",
       "      <th>Low</th>\n",
       "      <th>Close</th>\n",
       "      <th>Volume</th>\n",
       "    </tr>\n",
       "  </thead>\n",
       "  <tbody>\n",
       "    <tr>\n",
       "      <th>0</th>\n",
       "      <td>1/3/2012</td>\n",
       "      <td>325.25</td>\n",
       "      <td>332.83</td>\n",
       "      <td>324.97</td>\n",
       "      <td>663.59</td>\n",
       "      <td>7,380,500</td>\n",
       "    </tr>\n",
       "    <tr>\n",
       "      <th>1</th>\n",
       "      <td>1/4/2012</td>\n",
       "      <td>331.27</td>\n",
       "      <td>333.87</td>\n",
       "      <td>329.08</td>\n",
       "      <td>666.45</td>\n",
       "      <td>5,749,400</td>\n",
       "    </tr>\n",
       "    <tr>\n",
       "      <th>2</th>\n",
       "      <td>1/5/2012</td>\n",
       "      <td>329.83</td>\n",
       "      <td>330.75</td>\n",
       "      <td>326.89</td>\n",
       "      <td>657.21</td>\n",
       "      <td>6,590,300</td>\n",
       "    </tr>\n",
       "    <tr>\n",
       "      <th>3</th>\n",
       "      <td>1/6/2012</td>\n",
       "      <td>328.34</td>\n",
       "      <td>328.77</td>\n",
       "      <td>323.68</td>\n",
       "      <td>648.24</td>\n",
       "      <td>5,405,900</td>\n",
       "    </tr>\n",
       "    <tr>\n",
       "      <th>4</th>\n",
       "      <td>1/9/2012</td>\n",
       "      <td>322.04</td>\n",
       "      <td>322.29</td>\n",
       "      <td>309.46</td>\n",
       "      <td>620.76</td>\n",
       "      <td>11,688,800</td>\n",
       "    </tr>\n",
       "  </tbody>\n",
       "</table>\n",
       "</div>"
      ],
      "text/plain": [
       "       Date    Open    High     Low   Close      Volume\n",
       "0  1/3/2012  325.25  332.83  324.97  663.59   7,380,500\n",
       "1  1/4/2012  331.27  333.87  329.08  666.45   5,749,400\n",
       "2  1/5/2012  329.83  330.75  326.89  657.21   6,590,300\n",
       "3  1/6/2012  328.34  328.77  323.68  648.24   5,405,900\n",
       "4  1/9/2012  322.04  322.29  309.46  620.76  11,688,800"
      ]
     },
     "execution_count": 2,
     "metadata": {},
     "output_type": "execute_result"
    }
   ],
   "source": [
    "dataset_train = pd.read_csv('Google_Stock_Price_Train.csv')\n",
    "dataset_train.head()"
   ]
  },
  {
   "cell_type": "code",
   "execution_count": 3,
   "metadata": {},
   "outputs": [],
   "source": [
    "training_set = dataset_train['Open'].values\n",
    "training_set = training_set.reshape(len(training_set),1)"
   ]
  },
  {
   "cell_type": "code",
   "execution_count": 4,
   "metadata": {},
   "outputs": [],
   "source": [
    "from sklearn.preprocessing import MinMaxScaler\n",
    "sc = MinMaxScaler(feature_range = (0,1))\n",
    "training_set_scaled = sc.fit_transform(training_set)"
   ]
  },
  {
   "cell_type": "code",
   "execution_count": 5,
   "metadata": {},
   "outputs": [],
   "source": [
    "X_train, y_train = [], []\n",
    "for i in range(60, 1258):\n",
    "    X_train.append(training_set_scaled[i-60:i, 0])\n",
    "    y_train.append(training_set_scaled[i, 0])\n",
    "X_train, y_train = np.array(X_train), np.array(y_train)"
   ]
  },
  {
   "cell_type": "code",
   "execution_count": 6,
   "metadata": {},
   "outputs": [],
   "source": [
    "# X_train = np.reshape(X_train, (X_train.shape[0], X_train.shape[1], 1))"
   ]
  },
  {
   "cell_type": "code",
   "execution_count": 7,
   "metadata": {},
   "outputs": [],
   "source": [
    "import tensorflow as tf\n",
    "ann = tf.keras.models.Sequential()"
   ]
  },
  {
   "cell_type": "code",
   "execution_count": 8,
   "metadata": {},
   "outputs": [],
   "source": [
    "from tensorflow.keras.layers import Dropout"
   ]
  },
  {
   "cell_type": "code",
   "execution_count": 9,
   "metadata": {},
   "outputs": [],
   "source": [
    "ann.add(tf.keras.layers.Dense(units=50, activation='tanh'))\n",
    "ann.add(Dropout(0.2))"
   ]
  },
  {
   "cell_type": "code",
   "execution_count": 10,
   "metadata": {},
   "outputs": [],
   "source": [
    "ann.add(tf.keras.layers.Dense(units=50, activation='tanh'))\n",
    "ann.add(Dropout(0.2))"
   ]
  },
  {
   "cell_type": "code",
   "execution_count": 11,
   "metadata": {},
   "outputs": [],
   "source": [
    "ann.add(tf.keras.layers.Dense(units=50, activation='tanh'))\n",
    "ann.add(Dropout(0.2))"
   ]
  },
  {
   "cell_type": "code",
   "execution_count": 12,
   "metadata": {},
   "outputs": [],
   "source": [
    "ann.add(tf.keras.layers.Dense(units=50, activation='tanh'))\n",
    "ann.add(Dropout(0.2))"
   ]
  },
  {
   "cell_type": "code",
   "execution_count": 13,
   "metadata": {},
   "outputs": [],
   "source": [
    "ann.add(tf.keras.layers.Dense(units=1))"
   ]
  },
  {
   "cell_type": "code",
   "execution_count": 14,
   "metadata": {},
   "outputs": [],
   "source": [
    "ann.compile(optimizer = 'adam', loss = 'mean_squared_error')"
   ]
  },
  {
   "cell_type": "code",
   "execution_count": 15,
   "metadata": {},
   "outputs": [
    {
     "name": "stdout",
     "output_type": "stream",
     "text": [
      "Train on 1198 samples\n",
      "Epoch 1/120\n",
      "1198/1198 [==============================] - 1s 907us/sample - loss: 0.2117\n",
      "Epoch 2/120\n",
      "1198/1198 [==============================] - 0s 80us/sample - loss: 0.0608\n",
      "Epoch 3/120\n",
      "1198/1198 [==============================] - 0s 79us/sample - loss: 0.0438\n",
      "Epoch 4/120\n",
      "1198/1198 [==============================] - 0s 80us/sample - loss: 0.0305\n",
      "Epoch 5/120\n",
      "1198/1198 [==============================] - 0s 84us/sample - loss: 0.0240\n",
      "Epoch 6/120\n",
      "1198/1198 [==============================] - 0s 78us/sample - loss: 0.0202\n",
      "Epoch 7/120\n",
      "1198/1198 [==============================] - 0s 79us/sample - loss: 0.0177\n",
      "Epoch 8/120\n",
      "1198/1198 [==============================] - 0s 83us/sample - loss: 0.0139\n",
      "Epoch 9/120\n",
      "1198/1198 [==============================] - 0s 82us/sample - loss: 0.0144\n",
      "Epoch 10/120\n",
      "1198/1198 [==============================] - 0s 82us/sample - loss: 0.0124\n",
      "Epoch 11/120\n",
      "1198/1198 [==============================] - 0s 94us/sample - loss: 0.0116\n",
      "Epoch 12/120\n",
      "1198/1198 [==============================] - 0s 78us/sample - loss: 0.0118\n",
      "Epoch 13/120\n",
      "1198/1198 [==============================] - 0s 79us/sample - loss: 0.0104\n",
      "Epoch 14/120\n",
      "1198/1198 [==============================] - 0s 82us/sample - loss: 0.0095\n",
      "Epoch 15/120\n",
      "1198/1198 [==============================] - 0s 87us/sample - loss: 0.0099\n",
      "Epoch 16/120\n",
      "1198/1198 [==============================] - 0s 79us/sample - loss: 0.0097\n",
      "Epoch 17/120\n",
      "1198/1198 [==============================] - 0s 78us/sample - loss: 0.0106\n",
      "Epoch 18/120\n",
      "1198/1198 [==============================] - 0s 83us/sample - loss: 0.0086\n",
      "Epoch 19/120\n",
      "1198/1198 [==============================] - 0s 79us/sample - loss: 0.0093\n",
      "Epoch 20/120\n",
      "1198/1198 [==============================] - 0s 80us/sample - loss: 0.0071\n",
      "Epoch 21/120\n",
      "1198/1198 [==============================] - 0s 79us/sample - loss: 0.0081\n",
      "Epoch 22/120\n",
      "1198/1198 [==============================] - 0s 82us/sample - loss: 0.0071\n",
      "Epoch 23/120\n",
      "1198/1198 [==============================] - 0s 84us/sample - loss: 0.0071\n",
      "Epoch 24/120\n",
      "1198/1198 [==============================] - 0s 80us/sample - loss: 0.0070\n",
      "Epoch 25/120\n",
      "1198/1198 [==============================] - 0s 169us/sample - loss: 0.0072\n",
      "Epoch 26/120\n",
      "1198/1198 [==============================] - 0s 356us/sample - loss: 0.0067\n",
      "Epoch 27/120\n",
      "1198/1198 [==============================] - 0s 356us/sample - loss: 0.0071\n",
      "Epoch 28/120\n",
      "1198/1198 [==============================] - 0s 366us/sample - loss: 0.0082\n",
      "Epoch 29/120\n",
      "1198/1198 [==============================] - 0s 360us/sample - loss: 0.0068\n",
      "Epoch 30/120\n",
      "1198/1198 [==============================] - 0s 184us/sample - loss: 0.0070\n",
      "Epoch 31/120\n",
      "1198/1198 [==============================] - 0s 76us/sample - loss: 0.0061\n",
      "Epoch 32/120\n",
      "1198/1198 [==============================] - 0s 78us/sample - loss: 0.0065\n",
      "Epoch 33/120\n",
      "1198/1198 [==============================] - 0s 79us/sample - loss: 0.0063\n",
      "Epoch 34/120\n",
      "1198/1198 [==============================] - 0s 77us/sample - loss: 0.0059\n",
      "Epoch 35/120\n",
      "1198/1198 [==============================] - 0s 83us/sample - loss: 0.0069\n",
      "Epoch 36/120\n",
      "1198/1198 [==============================] - 0s 82us/sample - loss: 0.0066\n",
      "Epoch 37/120\n",
      "1198/1198 [==============================] - 0s 83us/sample - loss: 0.0064\n",
      "Epoch 38/120\n",
      "1198/1198 [==============================] - 0s 82us/sample - loss: 0.0058\n",
      "Epoch 39/120\n",
      "1198/1198 [==============================] - 0s 84us/sample - loss: 0.0057\n",
      "Epoch 40/120\n",
      "1198/1198 [==============================] - 0s 85us/sample - loss: 0.0053\n",
      "Epoch 41/120\n",
      "1198/1198 [==============================] - 0s 81us/sample - loss: 0.0056\n",
      "Epoch 42/120\n",
      "1198/1198 [==============================] - 0s 83us/sample - loss: 0.0060\n",
      "Epoch 43/120\n",
      "1198/1198 [==============================] - 0s 82us/sample - loss: 0.0059\n",
      "Epoch 44/120\n",
      "1198/1198 [==============================] - 0s 85us/sample - loss: 0.0053\n",
      "Epoch 45/120\n",
      "1198/1198 [==============================] - 0s 81us/sample - loss: 0.0056\n",
      "Epoch 46/120\n",
      "1198/1198 [==============================] - 0s 82us/sample - loss: 0.0054\n",
      "Epoch 47/120\n",
      "1198/1198 [==============================] - 0s 84us/sample - loss: 0.0081\n",
      "Epoch 48/120\n",
      "1198/1198 [==============================] - 0s 83us/sample - loss: 0.0054\n",
      "Epoch 49/120\n",
      "1198/1198 [==============================] - 0s 82us/sample - loss: 0.0056\n",
      "Epoch 50/120\n",
      "1198/1198 [==============================] - 0s 84us/sample - loss: 0.0053\n",
      "Epoch 51/120\n",
      "1198/1198 [==============================] - 0s 82us/sample - loss: 0.0058\n",
      "Epoch 52/120\n",
      "1198/1198 [==============================] - 0s 85us/sample - loss: 0.0055\n",
      "Epoch 53/120\n",
      "1198/1198 [==============================] - 0s 84us/sample - loss: 0.0053\n",
      "Epoch 54/120\n",
      "1198/1198 [==============================] - 0s 84us/sample - loss: 0.0051\n",
      "Epoch 55/120\n",
      "1198/1198 [==============================] - 0s 79us/sample - loss: 0.0053\n",
      "Epoch 56/120\n",
      "1198/1198 [==============================] - 0s 82us/sample - loss: 0.0050\n",
      "Epoch 57/120\n",
      "1198/1198 [==============================] - 0s 82us/sample - loss: 0.0050\n",
      "Epoch 58/120\n",
      "1198/1198 [==============================] - 0s 84us/sample - loss: 0.0046\n",
      "Epoch 59/120\n",
      "1198/1198 [==============================] - 0s 83us/sample - loss: 0.0041\n",
      "Epoch 60/120\n",
      "1198/1198 [==============================] - 0s 86us/sample - loss: 0.0045\n",
      "Epoch 61/120\n",
      "1198/1198 [==============================] - 0s 80us/sample - loss: 0.0042\n",
      "Epoch 62/120\n",
      "1198/1198 [==============================] - 0s 87us/sample - loss: 0.0051\n",
      "Epoch 63/120\n",
      "1198/1198 [==============================] - 0s 83us/sample - loss: 0.0043\n",
      "Epoch 64/120\n",
      "1198/1198 [==============================] - 0s 81us/sample - loss: 0.0045\n",
      "Epoch 65/120\n",
      "1198/1198 [==============================] - 0s 87us/sample - loss: 0.0042\n",
      "Epoch 66/120\n",
      "1198/1198 [==============================] - 0s 95us/sample - loss: 0.0052\n",
      "Epoch 67/120\n",
      "1198/1198 [==============================] - 0s 100us/sample - loss: 0.0046\n",
      "Epoch 68/120\n",
      "1198/1198 [==============================] - 0s 83us/sample - loss: 0.0047\n",
      "Epoch 69/120\n",
      "1198/1198 [==============================] - 0s 87us/sample - loss: 0.0057\n",
      "Epoch 70/120\n",
      "1198/1198 [==============================] - 0s 95us/sample - loss: 0.0045\n",
      "Epoch 71/120\n",
      "1198/1198 [==============================] - 0s 92us/sample - loss: 0.0048\n",
      "Epoch 72/120\n",
      "1198/1198 [==============================] - 0s 83us/sample - loss: 0.0044\n",
      "Epoch 73/120\n",
      "1198/1198 [==============================] - 0s 81us/sample - loss: 0.0040\n",
      "Epoch 74/120\n",
      "1198/1198 [==============================] - 0s 82us/sample - loss: 0.0040\n",
      "Epoch 75/120\n",
      "1198/1198 [==============================] - 0s 93us/sample - loss: 0.0040\n",
      "Epoch 76/120\n",
      "1198/1198 [==============================] - 0s 95us/sample - loss: 0.0044\n",
      "Epoch 77/120\n",
      "1198/1198 [==============================] - 0s 82us/sample - loss: 0.0042\n",
      "Epoch 78/120\n",
      "1198/1198 [==============================] - 0s 82us/sample - loss: 0.0043\n",
      "Epoch 79/120\n",
      "1198/1198 [==============================] - 0s 82us/sample - loss: 0.0053\n",
      "Epoch 80/120\n",
      "1198/1198 [==============================] - 0s 81us/sample - loss: 0.0039\n",
      "Epoch 81/120\n",
      "1198/1198 [==============================] - 0s 84us/sample - loss: 0.0041\n",
      "Epoch 82/120\n",
      "1198/1198 [==============================] - 0s 82us/sample - loss: 0.0039\n",
      "Epoch 83/120\n",
      "1198/1198 [==============================] - 0s 82us/sample - loss: 0.0041\n",
      "Epoch 84/120\n",
      "1198/1198 [==============================] - 0s 83us/sample - loss: 0.0048\n",
      "Epoch 85/120\n",
      "1198/1198 [==============================] - 0s 84us/sample - loss: 0.0044\n",
      "Epoch 86/120\n",
      "1198/1198 [==============================] - 0s 94us/sample - loss: 0.0039\n",
      "Epoch 87/120\n",
      "1198/1198 [==============================] - 0s 90us/sample - loss: 0.0044\n",
      "Epoch 88/120\n",
      "1198/1198 [==============================] - 0s 84us/sample - loss: 0.0035\n",
      "Epoch 89/120\n",
      "1198/1198 [==============================] - 0s 86us/sample - loss: 0.0035\n",
      "Epoch 90/120\n",
      "1198/1198 [==============================] - 0s 82us/sample - loss: 0.0037\n",
      "Epoch 91/120\n",
      "1198/1198 [==============================] - 0s 81us/sample - loss: 0.0036\n",
      "Epoch 92/120\n",
      "1198/1198 [==============================] - 0s 87us/sample - loss: 0.0043\n",
      "Epoch 93/120\n"
     ]
    },
    {
     "name": "stdout",
     "output_type": "stream",
     "text": [
      "1198/1198 [==============================] - 0s 80us/sample - loss: 0.0036\n",
      "Epoch 94/120\n",
      "1198/1198 [==============================] - 0s 79us/sample - loss: 0.0031\n",
      "Epoch 95/120\n",
      "1198/1198 [==============================] - 0s 79us/sample - loss: 0.0038\n",
      "Epoch 96/120\n",
      "1198/1198 [==============================] - 0s 78us/sample - loss: 0.0036\n",
      "Epoch 97/120\n",
      "1198/1198 [==============================] - 0s 77us/sample - loss: 0.0035\n",
      "Epoch 98/120\n",
      "1198/1198 [==============================] - 0s 80us/sample - loss: 0.0036\n",
      "Epoch 99/120\n",
      "1198/1198 [==============================] - 0s 80us/sample - loss: 0.0036\n",
      "Epoch 100/120\n",
      "1198/1198 [==============================] - 0s 217us/sample - loss: 0.0037\n",
      "Epoch 101/120\n",
      "1198/1198 [==============================] - 0s 351us/sample - loss: 0.0035\n",
      "Epoch 102/120\n",
      "1198/1198 [==============================] - 0s 357us/sample - loss: 0.0030\n",
      "Epoch 103/120\n",
      "1198/1198 [==============================] - 0s 351us/sample - loss: 0.0035\n",
      "Epoch 104/120\n",
      "1198/1198 [==============================] - 0s 350us/sample - loss: 0.0034\n",
      "Epoch 105/120\n",
      "1198/1198 [==============================] - 0s 140us/sample - loss: 0.0030\n",
      "Epoch 106/120\n",
      "1198/1198 [==============================] - 0s 71us/sample - loss: 0.0031\n",
      "Epoch 107/120\n",
      "1198/1198 [==============================] - 0s 73us/sample - loss: 0.0031\n",
      "Epoch 108/120\n",
      "1198/1198 [==============================] - 0s 74us/sample - loss: 0.0032\n",
      "Epoch 109/120\n",
      "1198/1198 [==============================] - 0s 77us/sample - loss: 0.0030\n",
      "Epoch 110/120\n",
      "1198/1198 [==============================] - 0s 79us/sample - loss: 0.0032\n",
      "Epoch 111/120\n",
      "1198/1198 [==============================] - 0s 76us/sample - loss: 0.0033\n",
      "Epoch 112/120\n",
      "1198/1198 [==============================] - 0s 79us/sample - loss: 0.0033\n",
      "Epoch 113/120\n",
      "1198/1198 [==============================] - 0s 80us/sample - loss: 0.0030\n",
      "Epoch 114/120\n",
      "1198/1198 [==============================] - 0s 78us/sample - loss: 0.0028\n",
      "Epoch 115/120\n",
      "1198/1198 [==============================] - 0s 80us/sample - loss: 0.0030\n",
      "Epoch 116/120\n",
      "1198/1198 [==============================] - 0s 82us/sample - loss: 0.0028\n",
      "Epoch 117/120\n",
      "1198/1198 [==============================] - 0s 78us/sample - loss: 0.0032\n",
      "Epoch 118/120\n",
      "1198/1198 [==============================] - 0s 79us/sample - loss: 0.0029\n",
      "Epoch 119/120\n",
      "1198/1198 [==============================] - 0s 79us/sample - loss: 0.0034\n",
      "Epoch 120/120\n",
      "1198/1198 [==============================] - 0s 80us/sample - loss: 0.0032\n"
     ]
    },
    {
     "data": {
      "text/plain": [
       "<tensorflow.python.keras.callbacks.History at 0x25af8aa3748>"
      ]
     },
     "execution_count": 15,
     "metadata": {},
     "output_type": "execute_result"
    }
   ],
   "source": [
    "ann.fit(X_train, y_train, batch_size = 32, epochs = 120)"
   ]
  },
  {
   "cell_type": "code",
   "execution_count": 16,
   "metadata": {},
   "outputs": [
    {
     "data": {
      "text/html": [
       "<div>\n",
       "<style scoped>\n",
       "    .dataframe tbody tr th:only-of-type {\n",
       "        vertical-align: middle;\n",
       "    }\n",
       "\n",
       "    .dataframe tbody tr th {\n",
       "        vertical-align: top;\n",
       "    }\n",
       "\n",
       "    .dataframe thead th {\n",
       "        text-align: right;\n",
       "    }\n",
       "</style>\n",
       "<table border=\"1\" class=\"dataframe\">\n",
       "  <thead>\n",
       "    <tr style=\"text-align: right;\">\n",
       "      <th></th>\n",
       "      <th>Date</th>\n",
       "      <th>Open</th>\n",
       "      <th>High</th>\n",
       "      <th>Low</th>\n",
       "      <th>Close</th>\n",
       "      <th>Volume</th>\n",
       "    </tr>\n",
       "  </thead>\n",
       "  <tbody>\n",
       "    <tr>\n",
       "      <th>0</th>\n",
       "      <td>1/3/2017</td>\n",
       "      <td>778.81</td>\n",
       "      <td>789.63</td>\n",
       "      <td>775.80</td>\n",
       "      <td>786.14</td>\n",
       "      <td>1,657,300</td>\n",
       "    </tr>\n",
       "    <tr>\n",
       "      <th>1</th>\n",
       "      <td>1/4/2017</td>\n",
       "      <td>788.36</td>\n",
       "      <td>791.34</td>\n",
       "      <td>783.16</td>\n",
       "      <td>786.90</td>\n",
       "      <td>1,073,000</td>\n",
       "    </tr>\n",
       "    <tr>\n",
       "      <th>2</th>\n",
       "      <td>1/5/2017</td>\n",
       "      <td>786.08</td>\n",
       "      <td>794.48</td>\n",
       "      <td>785.02</td>\n",
       "      <td>794.02</td>\n",
       "      <td>1,335,200</td>\n",
       "    </tr>\n",
       "    <tr>\n",
       "      <th>3</th>\n",
       "      <td>1/6/2017</td>\n",
       "      <td>795.26</td>\n",
       "      <td>807.90</td>\n",
       "      <td>792.20</td>\n",
       "      <td>806.15</td>\n",
       "      <td>1,640,200</td>\n",
       "    </tr>\n",
       "    <tr>\n",
       "      <th>4</th>\n",
       "      <td>1/9/2017</td>\n",
       "      <td>806.40</td>\n",
       "      <td>809.97</td>\n",
       "      <td>802.83</td>\n",
       "      <td>806.65</td>\n",
       "      <td>1,272,400</td>\n",
       "    </tr>\n",
       "  </tbody>\n",
       "</table>\n",
       "</div>"
      ],
      "text/plain": [
       "       Date    Open    High     Low   Close     Volume\n",
       "0  1/3/2017  778.81  789.63  775.80  786.14  1,657,300\n",
       "1  1/4/2017  788.36  791.34  783.16  786.90  1,073,000\n",
       "2  1/5/2017  786.08  794.48  785.02  794.02  1,335,200\n",
       "3  1/6/2017  795.26  807.90  792.20  806.15  1,640,200\n",
       "4  1/9/2017  806.40  809.97  802.83  806.65  1,272,400"
      ]
     },
     "execution_count": 16,
     "metadata": {},
     "output_type": "execute_result"
    }
   ],
   "source": [
    "dataset_test = pd.read_csv('Google_Stock_Price_Test.csv')\n",
    "dataset_test.head()"
   ]
  },
  {
   "cell_type": "code",
   "execution_count": 17,
   "metadata": {},
   "outputs": [],
   "source": [
    "realStockPrice = dataset_test['Open'].values\n",
    "realStockPrice = realStockPrice.reshape(len(realStockPrice),1)"
   ]
  },
  {
   "cell_type": "code",
   "execution_count": 18,
   "metadata": {},
   "outputs": [
    {
     "data": {
      "text/plain": [
       "0     325.25\n",
       "1     331.27\n",
       "2     329.83\n",
       "3     328.34\n",
       "4     322.04\n",
       "       ...  \n",
       "15    829.62\n",
       "16    837.81\n",
       "17    834.71\n",
       "18    814.66\n",
       "19    796.86\n",
       "Name: Open, Length: 1278, dtype: float64"
      ]
     },
     "execution_count": 18,
     "metadata": {},
     "output_type": "execute_result"
    }
   ],
   "source": [
    "dataset_total = pd.concat((dataset_train['Open'], dataset_test['Open']), axis = 0)\n",
    "dataset_total"
   ]
  },
  {
   "cell_type": "code",
   "execution_count": 19,
   "metadata": {},
   "outputs": [
    {
     "data": {
      "text/plain": [
       "array([779.  , 779.66, 777.71, 786.66, 783.76, 781.22, 781.65, 779.8 ,\n",
       "       787.85, 798.24, 803.3 , 795.  , 804.9 , 816.68, 806.34, 801.  ,\n",
       "       808.35, 795.47, 782.89, 778.2 , 767.25, 750.66, 774.5 , 783.4 ,\n",
       "       779.94, 791.17, 756.54, 755.6 , 746.97, 755.2 , 766.92, 771.37,\n",
       "       762.61, 772.63, 767.73, 764.26, 760.  , 771.53, 770.07, 757.44,\n",
       "       744.59, 757.71, 764.73, 761.  , 772.48, 780.  , 785.04, 793.9 ,\n",
       "       797.4 , 797.34, 800.4 , 790.22, 796.76, 795.84, 792.36, 790.9 ,\n",
       "       790.68, 793.7 , 783.33, 782.75, 778.81, 788.36, 786.08, 795.26,\n",
       "       806.4 , 807.86, 805.  , 807.14, 807.48, 807.08, 805.81, 805.12,\n",
       "       806.91, 807.25, 822.3 , 829.62, 837.81, 834.71, 814.66, 796.86])"
      ]
     },
     "execution_count": 19,
     "metadata": {},
     "output_type": "execute_result"
    }
   ],
   "source": [
    "inputs = dataset_total[len(dataset_total) - len(dataset_test) - 60:].values\n",
    "inputs"
   ]
  },
  {
   "cell_type": "code",
   "execution_count": 20,
   "metadata": {},
   "outputs": [
    {
     "data": {
      "text/plain": [
       "array([[779.  ],\n",
       "       [779.66],\n",
       "       [777.71],\n",
       "       [786.66],\n",
       "       [783.76],\n",
       "       [781.22],\n",
       "       [781.65],\n",
       "       [779.8 ],\n",
       "       [787.85],\n",
       "       [798.24],\n",
       "       [803.3 ],\n",
       "       [795.  ],\n",
       "       [804.9 ],\n",
       "       [816.68],\n",
       "       [806.34],\n",
       "       [801.  ],\n",
       "       [808.35],\n",
       "       [795.47],\n",
       "       [782.89],\n",
       "       [778.2 ],\n",
       "       [767.25],\n",
       "       [750.66],\n",
       "       [774.5 ],\n",
       "       [783.4 ],\n",
       "       [779.94],\n",
       "       [791.17],\n",
       "       [756.54],\n",
       "       [755.6 ],\n",
       "       [746.97],\n",
       "       [755.2 ],\n",
       "       [766.92],\n",
       "       [771.37],\n",
       "       [762.61],\n",
       "       [772.63],\n",
       "       [767.73],\n",
       "       [764.26],\n",
       "       [760.  ],\n",
       "       [771.53],\n",
       "       [770.07],\n",
       "       [757.44],\n",
       "       [744.59],\n",
       "       [757.71],\n",
       "       [764.73],\n",
       "       [761.  ],\n",
       "       [772.48],\n",
       "       [780.  ],\n",
       "       [785.04],\n",
       "       [793.9 ],\n",
       "       [797.4 ],\n",
       "       [797.34],\n",
       "       [800.4 ],\n",
       "       [790.22],\n",
       "       [796.76],\n",
       "       [795.84],\n",
       "       [792.36],\n",
       "       [790.9 ],\n",
       "       [790.68],\n",
       "       [793.7 ],\n",
       "       [783.33],\n",
       "       [782.75],\n",
       "       [778.81],\n",
       "       [788.36],\n",
       "       [786.08],\n",
       "       [795.26],\n",
       "       [806.4 ],\n",
       "       [807.86],\n",
       "       [805.  ],\n",
       "       [807.14],\n",
       "       [807.48],\n",
       "       [807.08],\n",
       "       [805.81],\n",
       "       [805.12],\n",
       "       [806.91],\n",
       "       [807.25],\n",
       "       [822.3 ],\n",
       "       [829.62],\n",
       "       [837.81],\n",
       "       [834.71],\n",
       "       [814.66],\n",
       "       [796.86]])"
      ]
     },
     "execution_count": 20,
     "metadata": {},
     "output_type": "execute_result"
    }
   ],
   "source": [
    "inputs = inputs.reshape(-1,1)\n",
    "inputs"
   ]
  },
  {
   "cell_type": "code",
   "execution_count": 21,
   "metadata": {},
   "outputs": [
    {
     "data": {
      "text/plain": [
       "array([[0.9299055 ],\n",
       "       [0.93113327],\n",
       "       [0.92750577],\n",
       "       [0.94415507],\n",
       "       [0.93876032],\n",
       "       [0.93403527],\n",
       "       [0.93483518],\n",
       "       [0.9313937 ],\n",
       "       [0.94636878],\n",
       "       [0.96569685],\n",
       "       [0.97510976],\n",
       "       [0.95966962],\n",
       "       [0.97808617],\n",
       "       [1.        ],\n",
       "       [0.98076494],\n",
       "       [0.97083116],\n",
       "       [0.98450406],\n",
       "       [0.96054394],\n",
       "       [0.9371419 ],\n",
       "       [0.92841729],\n",
       "       [0.90804747],\n",
       "       [0.8771858 ],\n",
       "       [0.92153434],\n",
       "       [0.93809063],\n",
       "       [0.93165414],\n",
       "       [0.95254483],\n",
       "       [0.88812412],\n",
       "       [0.88637547],\n",
       "       [0.87032145],\n",
       "       [0.88563137],\n",
       "       [0.90743359],\n",
       "       [0.91571173],\n",
       "       [0.89941588],\n",
       "       [0.91805566],\n",
       "       [0.9089404 ],\n",
       "       [0.9024853 ],\n",
       "       [0.89456061],\n",
       "       [0.91600938],\n",
       "       [0.9132934 ],\n",
       "       [0.88979835],\n",
       "       [0.86589404],\n",
       "       [0.89030062],\n",
       "       [0.90335962],\n",
       "       [0.89642086],\n",
       "       [0.91777662],\n",
       "       [0.93176576],\n",
       "       [0.94114145],\n",
       "       [0.95762334],\n",
       "       [0.96413424],\n",
       "       [0.96402262],\n",
       "       [0.96971501],\n",
       "       [0.95077759],\n",
       "       [0.96294367],\n",
       "       [0.96123223],\n",
       "       [0.95475854],\n",
       "       [0.95204256],\n",
       "       [0.95163331],\n",
       "       [0.95725128],\n",
       "       [0.93796041],\n",
       "       [0.93688146],\n",
       "       [0.92955205],\n",
       "       [0.94731751],\n",
       "       [0.94307612],\n",
       "       [0.96015329],\n",
       "       [0.98087655],\n",
       "       [0.98359253],\n",
       "       [0.97827219],\n",
       "       [0.98225314],\n",
       "       [0.98288563],\n",
       "       [0.98214153],\n",
       "       [0.979779  ],\n",
       "       [0.97849542],\n",
       "       [0.98182528],\n",
       "       [0.98245777],\n",
       "       [1.01045465],\n",
       "       [1.02407173],\n",
       "       [1.03930724],\n",
       "       [1.03354044],\n",
       "       [0.99624228],\n",
       "       [0.9631297 ]])"
      ]
     },
     "execution_count": 21,
     "metadata": {},
     "output_type": "execute_result"
    }
   ],
   "source": [
    "inputs = sc.transform(inputs)\n",
    "inputs"
   ]
  },
  {
   "cell_type": "code",
   "execution_count": 22,
   "metadata": {},
   "outputs": [],
   "source": [
    "X_test = []\n",
    "for i in range(60, 80):\n",
    "    X_test.append(inputs[i-60:i, 0])\n",
    "X_test = np.array(X_test)"
   ]
  },
  {
   "cell_type": "code",
   "execution_count": 23,
   "metadata": {},
   "outputs": [],
   "source": [
    "# X_test = np.reshape(X_test, (X_test.shape[0], X_test.shape[1], 1))"
   ]
  },
  {
   "cell_type": "code",
   "execution_count": 24,
   "metadata": {},
   "outputs": [
    {
     "data": {
      "text/plain": [
       "array([[771.13354],\n",
       "       [767.04   ],\n",
       "       [772.792  ],\n",
       "       [775.70715],\n",
       "       [784.2845 ],\n",
       "       [786.4527 ],\n",
       "       [784.6864 ],\n",
       "       [782.68475],\n",
       "       [785.49384],\n",
       "       [787.28394],\n",
       "       [787.2868 ],\n",
       "       [793.5771 ],\n",
       "       [791.12744],\n",
       "       [788.7065 ],\n",
       "       [784.18634],\n",
       "       [790.61804],\n",
       "       [797.15247],\n",
       "       [802.4412 ],\n",
       "       [807.15063],\n",
       "       [800.12274]], dtype=float32)"
      ]
     },
     "execution_count": 24,
     "metadata": {},
     "output_type": "execute_result"
    }
   ],
   "source": [
    "predictedStockPrice = sc.inverse_transform(ann.predict(X_test))\n",
    "predictedStockPrice"
   ]
  },
  {
   "cell_type": "code",
   "execution_count": 28,
   "metadata": {},
   "outputs": [
    {
     "data": {
      "image/png": "[encoded data removed]",
      "text/plain": [
       "<Figure size 432x288 with 1 Axes>"
      ]
     },
     "metadata": {
      "needs_background": "light"
     },
     "output_type": "display_data"
    }
   ],
   "source": [
    "plt.plot(realStockPrice, color = 'red', label = 'Real Google Stock Price')\n",
    "plt.plot(predictedStockPrice, color = 'blue', label = 'Predicted Google Stock Price')\n",
    "plt.title('Google Stock Price Prediction')\n",
    "plt.xlabel('Time')\n",
    "plt.ylabel('Google Stock Price')\n",
    "plt.ylim(0,850)\n",
    "plt.legend()\n",
    "plt.show()"
   ]
  },
  {
   "cell_type": "code",
   "execution_count": 26,
   "metadata": {},
   "outputs": [],
   "source": [
    "import math\n",
    "from sklearn.metrics import mean_squared_error\n",
    "rmse = math.sqrt(mean_squared_error(realStockPrice, predictedStockPrice))"
   ]
  },
  {
   "cell_type": "code",
   "execution_count": 27,
   "metadata": {},
   "outputs": [
    {
     "data": {
      "text/plain": [
       "23.141034491263262"
      ]
     },
     "execution_count": 27,
     "metadata": {},
     "output_type": "execute_result"
    }
   ],
   "source": [
    "rmse"
   ]
  },
  {
   "cell_type": "code",
   "execution_count": null,
   "metadata": {},
   "outputs": [],
   "source": []
  }
 ],
 "metadata": {
  "kernelspec": {
   "display_name": "Python 3.7 (tensorflow)",
   "language": "python",
   "name": "tensorflow"
  },
  "language_info": {
   "codemirror_mode": {
    "name": "ipython",
    "version": 3
   },
   "file_extension": ".py",
   "mimetype": "text/x-python",
   "name": "python",
   "nbconvert_exporter": "python",
   "pygments_lexer": "ipython3",
   "version": "3.7.7"
  }
 },
 "nbformat": 4,
 "nbformat_minor": 4
}

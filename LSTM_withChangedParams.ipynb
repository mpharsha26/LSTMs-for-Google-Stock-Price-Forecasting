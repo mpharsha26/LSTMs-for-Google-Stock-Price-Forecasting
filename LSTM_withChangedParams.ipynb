{
 "cells": [
  {
   "cell_type": "code",
   "execution_count": null,
   "metadata": {},
   "outputs": [],
   "source": [
    "#Slight change in the parameter setting "
   ]
  },
  {
   "cell_type": "code",
   "execution_count": 1,
   "metadata": {},
   "outputs": [],
   "source": [
    "import pandas as pd\n",
    "import matplotlib.pyplot as plt\n",
    "import numpy as np"
   ]
  },
  {
   "cell_type": "code",
   "execution_count": 25,
   "metadata": {},
   "outputs": [
    {
     "data": {
      "text/html": [
       "<div>\n",
       "<style scoped>\n",
       "    .dataframe tbody tr th:only-of-type {\n",
       "        vertical-align: middle;\n",
       "    }\n",
       "\n",
       "    .dataframe tbody tr th {\n",
       "        vertical-align: top;\n",
       "    }\n",
       "\n",
       "    .dataframe thead th {\n",
       "        text-align: right;\n",
       "    }\n",
       "</style>\n",
       "<table border=\"1\" class=\"dataframe\">\n",
       "  <thead>\n",
       "    <tr style=\"text-align: right;\">\n",
       "      <th></th>\n",
       "      <th>Date</th>\n",
       "      <th>Open</th>\n",
       "      <th>High</th>\n",
       "      <th>Low</th>\n",
       "      <th>Close</th>\n",
       "      <th>Volume</th>\n",
       "    </tr>\n",
       "  </thead>\n",
       "  <tbody>\n",
       "    <tr>\n",
       "      <th>0</th>\n",
       "      <td>1/3/2012</td>\n",
       "      <td>325.25</td>\n",
       "      <td>332.83</td>\n",
       "      <td>324.97</td>\n",
       "      <td>663.59</td>\n",
       "      <td>7,380,500</td>\n",
       "    </tr>\n",
       "    <tr>\n",
       "      <th>1</th>\n",
       "      <td>1/4/2012</td>\n",
       "      <td>331.27</td>\n",
       "      <td>333.87</td>\n",
       "      <td>329.08</td>\n",
       "      <td>666.45</td>\n",
       "      <td>5,749,400</td>\n",
       "    </tr>\n",
       "    <tr>\n",
       "      <th>2</th>\n",
       "      <td>1/5/2012</td>\n",
       "      <td>329.83</td>\n",
       "      <td>330.75</td>\n",
       "      <td>326.89</td>\n",
       "      <td>657.21</td>\n",
       "      <td>6,590,300</td>\n",
       "    </tr>\n",
       "    <tr>\n",
       "      <th>3</th>\n",
       "      <td>1/6/2012</td>\n",
       "      <td>328.34</td>\n",
       "      <td>328.77</td>\n",
       "      <td>323.68</td>\n",
       "      <td>648.24</td>\n",
       "      <td>5,405,900</td>\n",
       "    </tr>\n",
       "    <tr>\n",
       "      <th>4</th>\n",
       "      <td>1/9/2012</td>\n",
       "      <td>322.04</td>\n",
       "      <td>322.29</td>\n",
       "      <td>309.46</td>\n",
       "      <td>620.76</td>\n",
       "      <td>11,688,800</td>\n",
       "    </tr>\n",
       "  </tbody>\n",
       "</table>\n",
       "</div>"
      ],
      "text/plain": [
       "       Date    Open    High     Low   Close      Volume\n",
       "0  1/3/2012  325.25  332.83  324.97  663.59   7,380,500\n",
       "1  1/4/2012  331.27  333.87  329.08  666.45   5,749,400\n",
       "2  1/5/2012  329.83  330.75  326.89  657.21   6,590,300\n",
       "3  1/6/2012  328.34  328.77  323.68  648.24   5,405,900\n",
       "4  1/9/2012  322.04  322.29  309.46  620.76  11,688,800"
      ]
     },
     "execution_count": 25,
     "metadata": {},
     "output_type": "execute_result"
    }
   ],
   "source": [
    "dataset_train = pd.read_csv('Google_Stock_Price_Train.csv')\n",
    "dataset_train.head()"
   ]
  },
  {
   "cell_type": "code",
   "execution_count": 26,
   "metadata": {},
   "outputs": [
    {
     "name": "stdout",
     "output_type": "stream",
     "text": [
      "<class 'pandas.core.frame.DataFrame'>\n",
      "RangeIndex: 1258 entries, 0 to 1257\n",
      "Data columns (total 6 columns):\n",
      " #   Column  Non-Null Count  Dtype  \n",
      "---  ------  --------------  -----  \n",
      " 0   Date    1258 non-null   object \n",
      " 1   Open    1258 non-null   float64\n",
      " 2   High    1258 non-null   float64\n",
      " 3   Low     1258 non-null   float64\n",
      " 4   Close   1258 non-null   object \n",
      " 5   Volume  1258 non-null   object \n",
      "dtypes: float64(3), object(3)\n",
      "memory usage: 59.1+ KB\n"
     ]
    }
   ],
   "source": [
    "dataset_train.info()"
   ]
  },
  {
   "cell_type": "code",
   "execution_count": 27,
   "metadata": {},
   "outputs": [
    {
     "name": "stdout",
     "output_type": "stream",
     "text": [
      "<class 'pandas.core.frame.DataFrame'>\n",
      "RangeIndex: 1258 entries, 0 to 1257\n",
      "Data columns (total 6 columns):\n",
      " #   Column  Non-Null Count  Dtype  \n",
      "---  ------  --------------  -----  \n",
      " 0   Date    1258 non-null   object \n",
      " 1   Open    1258 non-null   float64\n",
      " 2   High    1258 non-null   float64\n",
      " 3   Low     1258 non-null   float64\n",
      " 4   Close   1258 non-null   float64\n",
      " 5   Volume  1258 non-null   float64\n",
      "dtypes: float64(5), object(1)\n",
      "memory usage: 59.1+ KB\n"
     ]
    }
   ],
   "source": [
    "dataset_train['Volume'] = dataset_train['Volume'].str.split(',').str.join('').astype('float64')\n",
    "dataset_train['Close'] = dataset_train['Close'].str.split(',').str.join('').astype('float64')\n",
    "dataset_train.info()"
   ]
  },
  {
   "cell_type": "code",
   "execution_count": 28,
   "metadata": {},
   "outputs": [],
   "source": [
    "training_set = dataset_train[['Open', 'High', 'Low', 'Close', 'Volume']].values"
   ]
  },
  {
   "cell_type": "code",
   "execution_count": 29,
   "metadata": {},
   "outputs": [
    {
     "data": {
      "text/plain": [
       "(1258, 5)"
      ]
     },
     "execution_count": 29,
     "metadata": {},
     "output_type": "execute_result"
    }
   ],
   "source": [
    "training_set.shape"
   ]
  },
  {
   "cell_type": "code",
   "execution_count": 30,
   "metadata": {},
   "outputs": [
    {
     "data": {
      "text/plain": [
       "array([332.83, 333.87, 330.75, ..., 794.23, 785.93, 782.78])"
      ]
     },
     "execution_count": 30,
     "metadata": {},
     "output_type": "execute_result"
    }
   ],
   "source": [
    "training_set[:, 1]"
   ]
  },
  {
   "cell_type": "code",
   "execution_count": 31,
   "metadata": {},
   "outputs": [
    {
     "data": {
      "text/plain": [
       "array([3.2525e+02, 3.3283e+02, 3.2497e+02, 6.6359e+02, 7.3805e+06])"
      ]
     },
     "execution_count": 31,
     "metadata": {},
     "output_type": "execute_result"
    }
   ],
   "source": [
    "training_set[0]"
   ]
  },
  {
   "cell_type": "code",
   "execution_count": 32,
   "metadata": {},
   "outputs": [],
   "source": [
    "#applying feature scaling ( normalization ) on open stock price\n",
    "from sklearn.preprocessing import MinMaxScaler\n",
    "sc_open = MinMaxScaler(feature_range = (0,1))\n",
    "sc_remaining = MinMaxScaler(feature_range = (0,1))\n",
    "training_set_scaled_open = sc_open.fit_transform(training_set[:, 0:1])\n",
    "training_set_scaled_vol = sc_remaining.fit_transform(training_set[:, 1:5])"
   ]
  },
  {
   "cell_type": "code",
   "execution_count": 33,
   "metadata": {},
   "outputs": [],
   "source": [
    "training_set_scaled = np.concatenate((training_set_scaled_open, training_set_scaled_vol), axis = 1)"
   ]
  },
  {
   "cell_type": "code",
   "execution_count": 34,
   "metadata": {},
   "outputs": [
    {
     "data": {
      "text/plain": [
       "array([[0.08581368, 0.09640129, 0.09044931, 0.23757287, 0.29525831],\n",
       "       [0.09701243, 0.09834351, 0.09823458, 0.24151427, 0.22993592],\n",
       "       [0.09433366, 0.09251685, 0.09408623, 0.22878051, 0.26361233],\n",
       "       ...,\n",
       "       [0.95725128, 0.95807422, 0.95844067, 0.40495845, 0.04589107],\n",
       "       [0.93796041, 0.94257381, 0.95033338, 0.40184391, 0.02949139],\n",
       "       [0.93688146, 0.93669113, 0.93421352, 0.38672602, 0.07056868]])"
      ]
     },
     "execution_count": 34,
     "metadata": {},
     "output_type": "execute_result"
    }
   ],
   "source": [
    "training_set_scaled"
   ]
  },
  {
   "cell_type": "code",
   "execution_count": 35,
   "metadata": {},
   "outputs": [
    {
     "data": {
      "text/plain": [
       "array([[0.07984225, 0.07671765, 0.06106986, 0.1785483 , 0.46779736],\n",
       "       [0.0643277 , 0.06444805, 0.05697833, 0.17947163, 0.35306768],\n",
       "       [0.0585423 , 0.06033951, 0.06095621, 0.18335791, 0.19262715],\n",
       "       [0.06568569, 0.063589  , 0.06603273, 0.18841558, 0.15044053]])"
      ]
     },
     "execution_count": 35,
     "metadata": {},
     "output_type": "execute_result"
    }
   ],
   "source": [
    "training_set_scaled[4:8]"
   ]
  },
  {
   "cell_type": "code",
   "execution_count": 36,
   "metadata": {},
   "outputs": [],
   "source": [
    "#creating a data structure with 60 timesteps and 1 output\n",
    "X_train, y_train = [], []\n",
    "for i in range(60, 1258):\n",
    "    X_train.append(training_set_scaled[i-60:i])\n",
    "    y_train.append(training_set_scaled[i, 0])\n",
    "X_train, y_train = np.array(X_train), np.array(y_train)"
   ]
  },
  {
   "cell_type": "code",
   "execution_count": 43,
   "metadata": {},
   "outputs": [
    {
     "data": {
      "text/plain": [
       "array([[0.08581368, 0.09640129, 0.09044931, 0.23757287, 0.29525831],\n",
       "       [0.09701243, 0.09834351, 0.09823458, 0.24151427, 0.22993592],\n",
       "       [0.09433366, 0.09251685, 0.09408623, 0.22878051, 0.26361233],\n",
       "       [0.09156187, 0.08881917, 0.08800576, 0.21641884, 0.21617942],\n",
       "       [0.07984225, 0.07671765, 0.06106986, 0.1785483 , 0.46779736],\n",
       "       [0.0643277 , 0.06444805, 0.05697833, 0.17947163, 0.35306768],\n",
       "       [0.0585423 , 0.06033951, 0.06095621, 0.18335791, 0.19262715],\n",
       "       [0.06568569, 0.063589  , 0.06603273, 0.18841558, 0.15044053],\n",
       "       [0.06109085, 0.05806114, 0.06089938, 0.18202114, 0.18517821],\n",
       "       [0.06639259, 0.06274861, 0.0652561 , 0.18695478, 0.15317982],\n",
       "       [0.0614257 , 0.06463481, 0.06190332, 0.19290823, 0.22171005],\n",
       "       [0.07474514, 0.07113377, 0.07071147, 0.2020589 , 0.50660392],\n",
       "       [0.02797827, 0.02463257, 0.0237536 , 0.12842633, 0.84997597],\n",
       "       [0.02379269, 0.02244757, 0.02513638, 0.12777862, 0.27406488],\n",
       "       [0.02409033, 0.02153249, 0.02026822, 0.12146686, 0.24535443],\n",
       "       [0.0159238 , 0.01318468, 0.00930065, 0.1057426 , 0.40067281],\n",
       "       [0.01078949, 0.00926289, 0.00757691, 0.10382702, 0.25905487],\n",
       "       [0.00967334, 0.01469737, 0.01208516, 0.12015766, 0.29051262],\n",
       "       [0.01642607, 0.01439857, 0.01593044, 0.11701556, 0.18704445],\n",
       "       [0.02100231, 0.01811493, 0.01757842, 0.12033681, 0.1719183 ],\n",
       "       [0.02280676, 0.01951557, 0.02134793, 0.12132905, 0.18625551],\n",
       "       [0.02273235, 0.02035595, 0.0241135 , 0.12721359, 0.19381258],\n",
       "       [0.02810849, 0.03027247, 0.0297583 , 0.14263468, 0.2544173 ],\n",
       "       [0.03212665, 0.04306497, 0.03538415, 0.16016427, 0.29550661],\n",
       "       [0.0433812 , 0.04173903, 0.04457115, 0.15698083, 0.16787345],\n",
       "       [0.04475779, 0.04355053, 0.04549932, 0.16121164, 0.14731678],\n",
       "       [0.04790163, 0.04648253, 0.04951508, 0.1634304 , 0.1817541 ],\n",
       "       [0.0440695 , 0.0405625 , 0.04479845, 0.15579565, 0.18661594],\n",
       "       [0.04648783, 0.04586625, 0.05048113, 0.16443642, 0.14570284],\n",
       "       [0.04745517, 0.04416681, 0.04551826, 0.16108761, 0.14469363],\n",
       "       [0.04873875, 0.04502587, 0.04343461, 0.15531331, 0.19471366],\n",
       "       [0.03936305, 0.04119745, 0.03888847, 0.1566363 , 0.20315579],\n",
       "       [0.04137213, 0.04009562, 0.04330202, 0.15404545, 0.19657589],\n",
       "       [0.04034898, 0.04963864, 0.04373769, 0.16691702, 0.19912695],\n",
       "       [0.04784582, 0.0486115 , 0.04735566, 0.15859322, 0.15782139],\n",
       "       [0.04325099, 0.04037574, 0.04135096, 0.15607128, 0.16489387],\n",
       "       [0.04356723, 0.04383065, 0.04621912, 0.16128054, 0.15529435],\n",
       "       [0.04286033, 0.04450296, 0.04580239, 0.16046746, 0.14551061],\n",
       "       [0.04602277, 0.0513941 , 0.04828383, 0.17295316, 0.22861434],\n",
       "       [0.05398467, 0.05680991, 0.05565237, 0.17276022, 0.25187425],\n",
       "       [0.05738894, 0.05690328, 0.05815275, 0.17846561, 0.1795795 ],\n",
       "       [0.05714711, 0.05531589, 0.06019851, 0.17688078, 0.1261674 ],\n",
       "       [0.05569611, 0.05391525, 0.05176921, 0.16726155, 0.12777333],\n",
       "       [0.04421832, 0.04119745, 0.03521367, 0.15448645, 0.25488987],\n",
       "       [0.04514845, 0.04340112, 0.04656008, 0.15702217, 0.10134161],\n",
       "       [0.04605997, 0.04369993, 0.0470147 , 0.15749073, 0.10784942],\n",
       "       [0.04412531, 0.04407343, 0.04102894, 0.1480231 , 0.21438526],\n",
       "       [0.03675869, 0.03951669, 0.04032808, 0.15474829, 0.13386063],\n",
       "       [0.04486941, 0.04960128, 0.04625701, 0.17211251, 0.18023228],\n",
       "       [0.05065481, 0.05419538, 0.05372026, 0.16964569, 0.23579495],\n",
       "       [0.05214302, 0.05486769, 0.05502728, 0.17671541, 0.19545054],\n",
       "       [0.05612397, 0.05710871, 0.05995227, 0.18209005, 0.24492992],\n",
       "       [0.05818885, 0.06767886, 0.06106986, 0.19436903, 0.17436524],\n",
       "       [0.06540665, 0.06653968, 0.06675254, 0.19370754, 0.12352823],\n",
       "       [0.06882953, 0.07709115, 0.07169647, 0.20262393, 0.19822587],\n",
       "       [0.07243843, 0.07839842, 0.0702758 , 0.21096151, 0.19345214],\n",
       "       [0.07993526, 0.07811829, 0.07961434, 0.20620702, 0.1556628 ],\n",
       "       [0.07846566, 0.07903337, 0.0783452 , 0.21546794, 0.14593512],\n",
       "       [0.08034452, 0.08276841, 0.08330808, 0.21229828, 0.16105326],\n",
       "       [0.08497656, 0.08751191, 0.08921806, 0.22430164, 0.20379656]])"
      ]
     },
     "execution_count": 43,
     "metadata": {},
     "output_type": "execute_result"
    }
   ],
   "source": [
    "#first row corresponds to stockprice at the 60th financial day of our trainset \n",
    "#all these values are the previous 60 vectors each of length 5 \n",
    "X_train[0]"
   ]
  },
  {
   "cell_type": "code",
   "execution_count": 44,
   "metadata": {},
   "outputs": [
    {
     "data": {
      "text/plain": [
       "array([0.08627874])"
      ]
     },
     "execution_count": 44,
     "metadata": {},
     "output_type": "execute_result"
    }
   ],
   "source": [
    "#based on the above 60 stock prices, we'll train our future RNN to predict the stock price at time t+1\n",
    "#stock price at time t+1 is nothing but this below one !! \n",
    "y_train[0]"
   ]
  },
  {
   "cell_type": "code",
   "execution_count": 45,
   "metadata": {},
   "outputs": [
    {
     "data": {
      "text/plain": [
       "(1198, 60, 5)"
      ]
     },
     "execution_count": 45,
     "metadata": {},
     "output_type": "execute_result"
    }
   ],
   "source": [
    "X_train.shape"
   ]
  },
  {
   "cell_type": "code",
   "execution_count": 46,
   "metadata": {},
   "outputs": [],
   "source": [
    "#Building the robust RNN\n",
    "from tensorflow.keras.models import Sequential\n",
    "from tensorflow.keras.layers import Dense\n",
    "from tensorflow.keras.layers import LSTM\n",
    "from tensorflow.keras.layers import Dropout\n"
   ]
  },
  {
   "cell_type": "code",
   "execution_count": 47,
   "metadata": {},
   "outputs": [],
   "source": [
    "#initialising the RNN as an instance of the sequential class\n",
    "regressor = Sequential()"
   ]
  },
  {
   "cell_type": "code",
   "execution_count": 48,
   "metadata": {},
   "outputs": [],
   "source": [
    "#adding the first LSTM layer and some Dropout regularisation\n",
    "#dropout regularisation is added to prevent overfitting \n",
    "regressor.add(LSTM(units = 50, return_sequences = True, input_shape = (X_train.shape[1], X_train.shape[2])))\n",
    "regressor.add(Dropout(rate = 0.2))"
   ]
  },
  {
   "cell_type": "code",
   "execution_count": 49,
   "metadata": {},
   "outputs": [],
   "source": [
    "#adding the 2nd LSTM layer with some dropout regularisation \n",
    "regressor.add(LSTM(units = 70, return_sequences = True))\n",
    "regressor.add(Dropout(rate = 0.3))"
   ]
  },
  {
   "cell_type": "code",
   "execution_count": 50,
   "metadata": {},
   "outputs": [],
   "source": [
    "#adding the 3rd LSTM layer along with some dropout regularisation\n",
    "regressor.add(LSTM(units = 90, return_sequences = True))\n",
    "regressor.add(Dropout(rate = 0.4))"
   ]
  },
  {
   "cell_type": "code",
   "execution_count": 51,
   "metadata": {},
   "outputs": [],
   "source": [
    "#adding our 4th LSTM layer and some dropout regularisation\n",
    "regressor.add(LSTM(units = 120))\n",
    "regressor.add(Dropout(rate = 0.4))"
   ]
  },
  {
   "cell_type": "code",
   "execution_count": 52,
   "metadata": {},
   "outputs": [],
   "source": [
    "#adding the output layer \n",
    "regressor.add(Dense(units = 1))"
   ]
  },
  {
   "cell_type": "code",
   "execution_count": 53,
   "metadata": {},
   "outputs": [],
   "source": [
    "#attaching our RNN a powerful optimizer and a loss function\n",
    "regressor.compile(optimizer = 'adam', loss = 'mean_squared_error')"
   ]
  },
  {
   "cell_type": "code",
   "execution_count": 54,
   "metadata": {},
   "outputs": [
    {
     "name": "stdout",
     "output_type": "stream",
     "text": [
      "Train on 1198 samples\n",
      "Epoch 1/100\n",
      "1198/1198 [==============================] - 8s 6ms/sample - loss: 0.0367\n",
      "Epoch 2/100\n",
      "1198/1198 [==============================] - 0s 417us/sample - loss: 0.0081\n",
      "Epoch 3/100\n",
      "1198/1198 [==============================] - 1s 421us/sample - loss: 0.0061\n",
      "Epoch 4/100\n",
      "1198/1198 [==============================] - 1s 425us/sample - loss: 0.0058\n",
      "Epoch 5/100\n",
      "1198/1198 [==============================] - 1s 423us/sample - loss: 0.0055\n",
      "Epoch 6/100\n",
      "1198/1198 [==============================] - 1s 424us/sample - loss: 0.0064\n",
      "Epoch 7/100\n",
      "1198/1198 [==============================] - 1s 420us/sample - loss: 0.0057\n",
      "Epoch 8/100\n",
      "1198/1198 [==============================] - 1s 424us/sample - loss: 0.0049\n",
      "Epoch 9/100\n",
      "1198/1198 [==============================] - 1s 424us/sample - loss: 0.0049\n",
      "Epoch 10/100\n",
      "1198/1198 [==============================] - 1s 431us/sample - loss: 0.0049\n",
      "Epoch 11/100\n",
      "1198/1198 [==============================] - 1s 421us/sample - loss: 0.0052\n",
      "Epoch 12/100\n",
      "1198/1198 [==============================] - 1s 425us/sample - loss: 0.0047\n",
      "Epoch 13/100\n",
      "1198/1198 [==============================] - 1s 429us/sample - loss: 0.0044\n",
      "Epoch 14/100\n",
      "1198/1198 [==============================] - 1s 1ms/sample - loss: 0.0045\n",
      "Epoch 15/100\n",
      "1198/1198 [==============================] - 1s 880us/sample - loss: 0.0043\n",
      "Epoch 16/100\n",
      "1198/1198 [==============================] - 1s 424us/sample - loss: 0.0039\n",
      "Epoch 17/100\n",
      "1198/1198 [==============================] - 1s 430us/sample - loss: 0.0044\n",
      "Epoch 18/100\n",
      "1198/1198 [==============================] - 1s 424us/sample - loss: 0.0039\n",
      "Epoch 19/100\n",
      "1198/1198 [==============================] - 1s 428us/sample - loss: 0.0045\n",
      "Epoch 20/100\n",
      "1198/1198 [==============================] - 1s 425us/sample - loss: 0.0043\n",
      "Epoch 21/100\n",
      "1198/1198 [==============================] - 2s 1ms/sample - loss: 0.0037\n",
      "Epoch 22/100\n",
      "1198/1198 [==============================] - 1s 744us/sample - loss: 0.0036\n",
      "Epoch 23/100\n",
      "1198/1198 [==============================] - 1s 421us/sample - loss: 0.0037\n",
      "Epoch 24/100\n",
      "1198/1198 [==============================] - 1s 424us/sample - loss: 0.0036\n",
      "Epoch 25/100\n",
      "1198/1198 [==============================] - 1s 428us/sample - loss: 0.0034\n",
      "Epoch 26/100\n",
      "1198/1198 [==============================] - 1s 434us/sample - loss: 0.0034\n",
      "Epoch 27/100\n",
      "1198/1198 [==============================] - 1s 426us/sample - loss: 0.0031\n",
      "Epoch 28/100\n",
      "1198/1198 [==============================] - 2s 2ms/sample - loss: 0.0033\n",
      "Epoch 29/100\n",
      "1198/1198 [==============================] - 1s 611us/sample - loss: 0.0033\n",
      "Epoch 30/100\n",
      "1198/1198 [==============================] - 1s 427us/sample - loss: 0.0035\n",
      "Epoch 31/100\n",
      "1198/1198 [==============================] - 1s 431us/sample - loss: 0.0031\n",
      "Epoch 32/100\n",
      "1198/1198 [==============================] - 1s 431us/sample - loss: 0.0029\n",
      "Epoch 33/100\n",
      "1198/1198 [==============================] - 1s 430us/sample - loss: 0.0034\n",
      "Epoch 34/100\n",
      "1198/1198 [==============================] - 1s 428us/sample - loss: 0.0030\n",
      "Epoch 35/100\n",
      "1198/1198 [==============================] - 1s 433us/sample - loss: 0.0033\n",
      "Epoch 36/100\n",
      "1198/1198 [==============================] - 1s 440us/sample - loss: 0.0027\n",
      "Epoch 37/100\n",
      "1198/1198 [==============================] - 2s 2ms/sample - loss: 0.0029\n",
      "Epoch 38/100\n",
      "1198/1198 [==============================] - 1s 609us/sample - loss: 0.0028\n",
      "Epoch 39/100\n",
      "1198/1198 [==============================] - 1s 602us/sample - loss: 0.0031\n",
      "Epoch 40/100\n",
      "1198/1198 [==============================] - 1s 431us/sample - loss: 0.0024\n",
      "Epoch 41/100\n",
      "1198/1198 [==============================] - 1s 432us/sample - loss: 0.0030\n",
      "Epoch 42/100\n",
      "1198/1198 [==============================] - 1s 433us/sample - loss: 0.0026\n",
      "Epoch 43/100\n",
      "1198/1198 [==============================] - 1s 433us/sample - loss: 0.0025\n",
      "Epoch 44/100\n",
      "1198/1198 [==============================] - 1s 437us/sample - loss: 0.0028\n",
      "Epoch 45/100\n",
      "1198/1198 [==============================] - 1s 436us/sample - loss: 0.0027\n",
      "Epoch 46/100\n",
      "1198/1198 [==============================] - 1s 594us/sample - loss: 0.0026\n",
      "Epoch 47/100\n",
      "1198/1198 [==============================] - 2s 2ms/sample - loss: 0.0027\n",
      "Epoch 48/100\n",
      "1198/1198 [==============================] - 1s 428us/sample - loss: 0.0028\n",
      "Epoch 49/100\n",
      "1198/1198 [==============================] - 1s 435us/sample - loss: 0.0028\n",
      "Epoch 50/100\n",
      "1198/1198 [==============================] - 1s 430us/sample - loss: 0.0023\n",
      "Epoch 51/100\n",
      "1198/1198 [==============================] - 1s 436us/sample - loss: 0.0028\n",
      "Epoch 52/100\n",
      "1198/1198 [==============================] - 1s 436us/sample - loss: 0.0027\n",
      "Epoch 53/100\n",
      "1198/1198 [==============================] - 1s 876us/sample - loss: 0.0025\n",
      "Epoch 54/100\n",
      "1198/1198 [==============================] - 2s 1ms/sample - loss: 0.0021\n",
      "Epoch 55/100\n",
      "1198/1198 [==============================] - 1s 430us/sample - loss: 0.0020\n",
      "Epoch 56/100\n",
      "1198/1198 [==============================] - 1s 433us/sample - loss: 0.0022\n",
      "Epoch 57/100\n",
      "1198/1198 [==============================] - 1s 435us/sample - loss: 0.0025\n",
      "Epoch 58/100\n",
      "1198/1198 [==============================] - 1s 438us/sample - loss: 0.0023\n",
      "Epoch 59/100\n",
      "1198/1198 [==============================] - 1s 442us/sample - loss: 0.0021\n",
      "Epoch 60/100\n",
      "1198/1198 [==============================] - 1s 442us/sample - loss: 0.0021\n",
      "Epoch 61/100\n",
      "1198/1198 [==============================] - 1s 439us/sample - loss: 0.0021\n",
      "Epoch 62/100\n",
      "1198/1198 [==============================] - 2s 1ms/sample - loss: 0.0023\n",
      "Epoch 63/100\n",
      "1198/1198 [==============================] - 1s 831us/sample - loss: 0.0022\n",
      "Epoch 64/100\n",
      "1198/1198 [==============================] - 1s 432us/sample - loss: 0.0021\n",
      "Epoch 65/100\n",
      "1198/1198 [==============================] - 1s 437us/sample - loss: 0.0021\n",
      "Epoch 66/100\n",
      "1198/1198 [==============================] - 1s 437us/sample - loss: 0.0023\n",
      "Epoch 67/100\n",
      "1198/1198 [==============================] - 1s 440us/sample - loss: 0.0020\n",
      "Epoch 68/100\n",
      "1198/1198 [==============================] - 1s 449us/sample - loss: 0.0019\n",
      "Epoch 69/100\n",
      "1198/1198 [==============================] - 1s 441us/sample - loss: 0.0020\n",
      "Epoch 70/100\n",
      "1198/1198 [==============================] - 1s 451us/sample - loss: 0.0021\n",
      "Epoch 71/100\n",
      "1198/1198 [==============================] - 2s 2ms/sample - loss: 0.0020\n",
      "Epoch 72/100\n",
      "1198/1198 [==============================] - 1s 430us/sample - loss: 0.0024\n",
      "Epoch 73/100\n",
      "1198/1198 [==============================] - 1s 440us/sample - loss: 0.0017\n",
      "Epoch 74/100\n",
      "1198/1198 [==============================] - 1s 438us/sample - loss: 0.0018\n",
      "Epoch 75/100\n",
      "1198/1198 [==============================] - 1s 444us/sample - loss: 0.0020\n",
      "Epoch 76/100\n",
      "1198/1198 [==============================] - 1s 440us/sample - loss: 0.0021\n",
      "Epoch 77/100\n",
      "1198/1198 [==============================] - 1s 827us/sample - loss: 0.0019\n",
      "Epoch 78/100\n",
      "1198/1198 [==============================] - 2s 2ms/sample - loss: 0.0019\n",
      "Epoch 79/100\n",
      "1198/1198 [==============================] - 1s 635us/sample - loss: 0.0018\n",
      "Epoch 80/100\n",
      "1198/1198 [==============================] - 1s 437us/sample - loss: 0.0019\n",
      "Epoch 81/100\n",
      "1198/1198 [==============================] - 1s 445us/sample - loss: 0.0021\n",
      "Epoch 82/100\n",
      "1198/1198 [==============================] - 1s 450us/sample - loss: 0.0018\n",
      "Epoch 83/100\n",
      "1198/1198 [==============================] - 1s 448us/sample - loss: 0.0019\n",
      "Epoch 84/100\n",
      "1198/1198 [==============================] - 1s 441us/sample - loss: 0.0016\n",
      "Epoch 85/100\n",
      "1198/1198 [==============================] - 1s 443us/sample - loss: 0.0016\n",
      "Epoch 86/100\n",
      "1198/1198 [==============================] - 1s 766us/sample - loss: 0.0020\n",
      "Epoch 87/100\n",
      "1198/1198 [==============================] - 2s 2ms/sample - loss: 0.0017\n",
      "Epoch 88/100\n",
      "1198/1198 [==============================] - 1s 692us/sample - loss: 0.0016\n",
      "Epoch 89/100\n",
      "1198/1198 [==============================] - 1s 443us/sample - loss: 0.0017\n",
      "Epoch 90/100\n",
      "1198/1198 [==============================] - 1s 443us/sample - loss: 0.0016\n",
      "Epoch 91/100\n",
      "1198/1198 [==============================] - 1s 441us/sample - loss: 0.0017\n",
      "Epoch 92/100\n",
      "1198/1198 [==============================] - 1s 449us/sample - loss: 0.0016\n",
      "Epoch 93/100\n",
      "1198/1198 [==============================] - 1s 495us/sample - loss: 0.0017\n",
      "Epoch 94/100\n",
      "1198/1198 [==============================] - 2s 2ms/sample - loss: 0.0016\n",
      "Epoch 95/100\n",
      "1198/1198 [==============================] - 1s 961us/sample - loss: 0.0019\n",
      "Epoch 96/100\n",
      "1198/1198 [==============================] - 1s 427us/sample - loss: 0.0016\n",
      "Epoch 97/100\n",
      "1198/1198 [==============================] - 1s 431us/sample - loss: 0.0016\n",
      "Epoch 98/100\n",
      "1198/1198 [==============================] - 1s 431us/sample - loss: 0.0014\n",
      "Epoch 99/100\n",
      "1198/1198 [==============================] - 1s 437us/sample - loss: 0.0016\n",
      "Epoch 100/100\n",
      "1198/1198 [==============================] - 1s 430us/sample - loss: 0.0015\n"
     ]
    },
    {
     "data": {
      "text/plain": [
       "<tensorflow.python.keras.callbacks.History at 0x29a7982d0c8>"
      ]
     },
     "execution_count": 54,
     "metadata": {},
     "output_type": "execute_result"
    }
   ],
   "source": [
    "#fitting our model to the training set\n",
    "regressor.fit(X_train, y_train, epochs = 100, batch_size = 32)"
   ]
  },
  {
   "cell_type": "code",
   "execution_count": 90,
   "metadata": {},
   "outputs": [
    {
     "data": {
      "text/html": [
       "<div>\n",
       "<style scoped>\n",
       "    .dataframe tbody tr th:only-of-type {\n",
       "        vertical-align: middle;\n",
       "    }\n",
       "\n",
       "    .dataframe tbody tr th {\n",
       "        vertical-align: top;\n",
       "    }\n",
       "\n",
       "    .dataframe thead th {\n",
       "        text-align: right;\n",
       "    }\n",
       "</style>\n",
       "<table border=\"1\" class=\"dataframe\">\n",
       "  <thead>\n",
       "    <tr style=\"text-align: right;\">\n",
       "      <th></th>\n",
       "      <th>Date</th>\n",
       "      <th>Open</th>\n",
       "      <th>High</th>\n",
       "      <th>Low</th>\n",
       "      <th>Close</th>\n",
       "      <th>Volume</th>\n",
       "    </tr>\n",
       "  </thead>\n",
       "  <tbody>\n",
       "    <tr>\n",
       "      <th>0</th>\n",
       "      <td>1/3/2017</td>\n",
       "      <td>778.81</td>\n",
       "      <td>789.63</td>\n",
       "      <td>775.80</td>\n",
       "      <td>786.14</td>\n",
       "      <td>1,657,300</td>\n",
       "    </tr>\n",
       "    <tr>\n",
       "      <th>1</th>\n",
       "      <td>1/4/2017</td>\n",
       "      <td>788.36</td>\n",
       "      <td>791.34</td>\n",
       "      <td>783.16</td>\n",
       "      <td>786.90</td>\n",
       "      <td>1,073,000</td>\n",
       "    </tr>\n",
       "    <tr>\n",
       "      <th>2</th>\n",
       "      <td>1/5/2017</td>\n",
       "      <td>786.08</td>\n",
       "      <td>794.48</td>\n",
       "      <td>785.02</td>\n",
       "      <td>794.02</td>\n",
       "      <td>1,335,200</td>\n",
       "    </tr>\n",
       "    <tr>\n",
       "      <th>3</th>\n",
       "      <td>1/6/2017</td>\n",
       "      <td>795.26</td>\n",
       "      <td>807.90</td>\n",
       "      <td>792.20</td>\n",
       "      <td>806.15</td>\n",
       "      <td>1,640,200</td>\n",
       "    </tr>\n",
       "    <tr>\n",
       "      <th>4</th>\n",
       "      <td>1/9/2017</td>\n",
       "      <td>806.40</td>\n",
       "      <td>809.97</td>\n",
       "      <td>802.83</td>\n",
       "      <td>806.65</td>\n",
       "      <td>1,272,400</td>\n",
       "    </tr>\n",
       "  </tbody>\n",
       "</table>\n",
       "</div>"
      ],
      "text/plain": [
       "       Date    Open    High     Low   Close     Volume\n",
       "0  1/3/2017  778.81  789.63  775.80  786.14  1,657,300\n",
       "1  1/4/2017  788.36  791.34  783.16  786.90  1,073,000\n",
       "2  1/5/2017  786.08  794.48  785.02  794.02  1,335,200\n",
       "3  1/6/2017  795.26  807.90  792.20  806.15  1,640,200\n",
       "4  1/9/2017  806.40  809.97  802.83  806.65  1,272,400"
      ]
     },
     "execution_count": 90,
     "metadata": {},
     "output_type": "execute_result"
    }
   ],
   "source": [
    "#importing the real Google stock price of 2017\n",
    "dataset_test = pd.read_csv('Google_Stock_Price_Test.csv')\n",
    "dataset_test.head()"
   ]
  },
  {
   "cell_type": "code",
   "execution_count": 91,
   "metadata": {},
   "outputs": [
    {
     "name": "stdout",
     "output_type": "stream",
     "text": [
      "<class 'pandas.core.frame.DataFrame'>\n",
      "RangeIndex: 20 entries, 0 to 19\n",
      "Data columns (total 6 columns):\n",
      " #   Column  Non-Null Count  Dtype  \n",
      "---  ------  --------------  -----  \n",
      " 0   Date    20 non-null     object \n",
      " 1   Open    20 non-null     float64\n",
      " 2   High    20 non-null     float64\n",
      " 3   Low     20 non-null     float64\n",
      " 4   Close   20 non-null     float64\n",
      " 5   Volume  20 non-null     object \n",
      "dtypes: float64(4), object(2)\n",
      "memory usage: 1.1+ KB\n"
     ]
    }
   ],
   "source": [
    "dataset_test.info()"
   ]
  },
  {
   "cell_type": "code",
   "execution_count": 92,
   "metadata": {},
   "outputs": [
    {
     "name": "stdout",
     "output_type": "stream",
     "text": [
      "<class 'pandas.core.frame.DataFrame'>\n",
      "RangeIndex: 20 entries, 0 to 19\n",
      "Data columns (total 6 columns):\n",
      " #   Column  Non-Null Count  Dtype  \n",
      "---  ------  --------------  -----  \n",
      " 0   Date    20 non-null     object \n",
      " 1   Open    20 non-null     float64\n",
      " 2   High    20 non-null     float64\n",
      " 3   Low     20 non-null     float64\n",
      " 4   Close   20 non-null     float64\n",
      " 5   Volume  20 non-null     float64\n",
      "dtypes: float64(5), object(1)\n",
      "memory usage: 1.1+ KB\n"
     ]
    }
   ],
   "source": [
    "dataset_test['Volume'] = dataset_test['Volume'].str.split(',').str.join('').astype('float64')\n",
    "dataset_test.info()"
   ]
  },
  {
   "cell_type": "code",
   "execution_count": 93,
   "metadata": {},
   "outputs": [],
   "source": [
    "realStockPrice = dataset_test['Open'].values\n",
    "realStockPrice = realStockPrice.reshape(len(realStockPrice),1)"
   ]
  },
  {
   "cell_type": "code",
   "execution_count": 94,
   "metadata": {},
   "outputs": [
    {
     "data": {
      "text/plain": [
       "array([[778.81],\n",
       "       [788.36],\n",
       "       [786.08],\n",
       "       [795.26],\n",
       "       [806.4 ],\n",
       "       [807.86],\n",
       "       [805.  ],\n",
       "       [807.14],\n",
       "       [807.48],\n",
       "       [807.08],\n",
       "       [805.81],\n",
       "       [805.12],\n",
       "       [806.91],\n",
       "       [807.25],\n",
       "       [822.3 ],\n",
       "       [829.62],\n",
       "       [837.81],\n",
       "       [834.71],\n",
       "       [814.66],\n",
       "       [796.86]])"
      ]
     },
     "execution_count": 94,
     "metadata": {},
     "output_type": "execute_result"
    }
   ],
   "source": [
    "realStockPrice"
   ]
  },
  {
   "cell_type": "code",
   "execution_count": 95,
   "metadata": {},
   "outputs": [
    {
     "data": {
      "text/html": [
       "<div>\n",
       "<style scoped>\n",
       "    .dataframe tbody tr th:only-of-type {\n",
       "        vertical-align: middle;\n",
       "    }\n",
       "\n",
       "    .dataframe tbody tr th {\n",
       "        vertical-align: top;\n",
       "    }\n",
       "\n",
       "    .dataframe thead th {\n",
       "        text-align: right;\n",
       "    }\n",
       "</style>\n",
       "<table border=\"1\" class=\"dataframe\">\n",
       "  <thead>\n",
       "    <tr style=\"text-align: right;\">\n",
       "      <th></th>\n",
       "      <th>Date</th>\n",
       "      <th>Open</th>\n",
       "      <th>High</th>\n",
       "      <th>Low</th>\n",
       "      <th>Close</th>\n",
       "      <th>Volume</th>\n",
       "    </tr>\n",
       "  </thead>\n",
       "  <tbody>\n",
       "    <tr>\n",
       "      <th>0</th>\n",
       "      <td>1/3/2017</td>\n",
       "      <td>778.81</td>\n",
       "      <td>789.63</td>\n",
       "      <td>775.80</td>\n",
       "      <td>786.14</td>\n",
       "      <td>1657300.0</td>\n",
       "    </tr>\n",
       "    <tr>\n",
       "      <th>1</th>\n",
       "      <td>1/4/2017</td>\n",
       "      <td>788.36</td>\n",
       "      <td>791.34</td>\n",
       "      <td>783.16</td>\n",
       "      <td>786.90</td>\n",
       "      <td>1073000.0</td>\n",
       "    </tr>\n",
       "    <tr>\n",
       "      <th>2</th>\n",
       "      <td>1/5/2017</td>\n",
       "      <td>786.08</td>\n",
       "      <td>794.48</td>\n",
       "      <td>785.02</td>\n",
       "      <td>794.02</td>\n",
       "      <td>1335200.0</td>\n",
       "    </tr>\n",
       "    <tr>\n",
       "      <th>3</th>\n",
       "      <td>1/6/2017</td>\n",
       "      <td>795.26</td>\n",
       "      <td>807.90</td>\n",
       "      <td>792.20</td>\n",
       "      <td>806.15</td>\n",
       "      <td>1640200.0</td>\n",
       "    </tr>\n",
       "    <tr>\n",
       "      <th>4</th>\n",
       "      <td>1/9/2017</td>\n",
       "      <td>806.40</td>\n",
       "      <td>809.97</td>\n",
       "      <td>802.83</td>\n",
       "      <td>806.65</td>\n",
       "      <td>1272400.0</td>\n",
       "    </tr>\n",
       "    <tr>\n",
       "      <th>5</th>\n",
       "      <td>1/10/2017</td>\n",
       "      <td>807.86</td>\n",
       "      <td>809.13</td>\n",
       "      <td>803.51</td>\n",
       "      <td>804.79</td>\n",
       "      <td>1176800.0</td>\n",
       "    </tr>\n",
       "    <tr>\n",
       "      <th>6</th>\n",
       "      <td>1/11/2017</td>\n",
       "      <td>805.00</td>\n",
       "      <td>808.15</td>\n",
       "      <td>801.37</td>\n",
       "      <td>807.91</td>\n",
       "      <td>1065900.0</td>\n",
       "    </tr>\n",
       "    <tr>\n",
       "      <th>7</th>\n",
       "      <td>1/12/2017</td>\n",
       "      <td>807.14</td>\n",
       "      <td>807.39</td>\n",
       "      <td>799.17</td>\n",
       "      <td>806.36</td>\n",
       "      <td>1353100.0</td>\n",
       "    </tr>\n",
       "    <tr>\n",
       "      <th>8</th>\n",
       "      <td>1/13/2017</td>\n",
       "      <td>807.48</td>\n",
       "      <td>811.22</td>\n",
       "      <td>806.69</td>\n",
       "      <td>807.88</td>\n",
       "      <td>1099200.0</td>\n",
       "    </tr>\n",
       "    <tr>\n",
       "      <th>9</th>\n",
       "      <td>1/17/2017</td>\n",
       "      <td>807.08</td>\n",
       "      <td>807.14</td>\n",
       "      <td>800.37</td>\n",
       "      <td>804.61</td>\n",
       "      <td>1362100.0</td>\n",
       "    </tr>\n",
       "    <tr>\n",
       "      <th>10</th>\n",
       "      <td>1/18/2017</td>\n",
       "      <td>805.81</td>\n",
       "      <td>806.21</td>\n",
       "      <td>800.99</td>\n",
       "      <td>806.07</td>\n",
       "      <td>1294400.0</td>\n",
       "    </tr>\n",
       "    <tr>\n",
       "      <th>11</th>\n",
       "      <td>1/19/2017</td>\n",
       "      <td>805.12</td>\n",
       "      <td>809.48</td>\n",
       "      <td>801.80</td>\n",
       "      <td>802.17</td>\n",
       "      <td>919300.0</td>\n",
       "    </tr>\n",
       "    <tr>\n",
       "      <th>12</th>\n",
       "      <td>1/20/2017</td>\n",
       "      <td>806.91</td>\n",
       "      <td>806.91</td>\n",
       "      <td>801.69</td>\n",
       "      <td>805.02</td>\n",
       "      <td>1670000.0</td>\n",
       "    </tr>\n",
       "    <tr>\n",
       "      <th>13</th>\n",
       "      <td>1/23/2017</td>\n",
       "      <td>807.25</td>\n",
       "      <td>820.87</td>\n",
       "      <td>803.74</td>\n",
       "      <td>819.31</td>\n",
       "      <td>1963600.0</td>\n",
       "    </tr>\n",
       "    <tr>\n",
       "      <th>14</th>\n",
       "      <td>1/24/2017</td>\n",
       "      <td>822.30</td>\n",
       "      <td>825.90</td>\n",
       "      <td>817.82</td>\n",
       "      <td>823.87</td>\n",
       "      <td>1474000.0</td>\n",
       "    </tr>\n",
       "    <tr>\n",
       "      <th>15</th>\n",
       "      <td>1/25/2017</td>\n",
       "      <td>829.62</td>\n",
       "      <td>835.77</td>\n",
       "      <td>825.06</td>\n",
       "      <td>835.67</td>\n",
       "      <td>1494500.0</td>\n",
       "    </tr>\n",
       "    <tr>\n",
       "      <th>16</th>\n",
       "      <td>1/26/2017</td>\n",
       "      <td>837.81</td>\n",
       "      <td>838.00</td>\n",
       "      <td>827.01</td>\n",
       "      <td>832.15</td>\n",
       "      <td>2973900.0</td>\n",
       "    </tr>\n",
       "    <tr>\n",
       "      <th>17</th>\n",
       "      <td>1/27/2017</td>\n",
       "      <td>834.71</td>\n",
       "      <td>841.95</td>\n",
       "      <td>820.44</td>\n",
       "      <td>823.31</td>\n",
       "      <td>2965800.0</td>\n",
       "    </tr>\n",
       "    <tr>\n",
       "      <th>18</th>\n",
       "      <td>1/30/2017</td>\n",
       "      <td>814.66</td>\n",
       "      <td>815.84</td>\n",
       "      <td>799.80</td>\n",
       "      <td>802.32</td>\n",
       "      <td>3246600.0</td>\n",
       "    </tr>\n",
       "    <tr>\n",
       "      <th>19</th>\n",
       "      <td>1/31/2017</td>\n",
       "      <td>796.86</td>\n",
       "      <td>801.25</td>\n",
       "      <td>790.52</td>\n",
       "      <td>796.79</td>\n",
       "      <td>2160600.0</td>\n",
       "    </tr>\n",
       "  </tbody>\n",
       "</table>\n",
       "</div>"
      ],
      "text/plain": [
       "         Date    Open    High     Low   Close     Volume\n",
       "0    1/3/2017  778.81  789.63  775.80  786.14  1657300.0\n",
       "1    1/4/2017  788.36  791.34  783.16  786.90  1073000.0\n",
       "2    1/5/2017  786.08  794.48  785.02  794.02  1335200.0\n",
       "3    1/6/2017  795.26  807.90  792.20  806.15  1640200.0\n",
       "4    1/9/2017  806.40  809.97  802.83  806.65  1272400.0\n",
       "5   1/10/2017  807.86  809.13  803.51  804.79  1176800.0\n",
       "6   1/11/2017  805.00  808.15  801.37  807.91  1065900.0\n",
       "7   1/12/2017  807.14  807.39  799.17  806.36  1353100.0\n",
       "8   1/13/2017  807.48  811.22  806.69  807.88  1099200.0\n",
       "9   1/17/2017  807.08  807.14  800.37  804.61  1362100.0\n",
       "10  1/18/2017  805.81  806.21  800.99  806.07  1294400.0\n",
       "11  1/19/2017  805.12  809.48  801.80  802.17   919300.0\n",
       "12  1/20/2017  806.91  806.91  801.69  805.02  1670000.0\n",
       "13  1/23/2017  807.25  820.87  803.74  819.31  1963600.0\n",
       "14  1/24/2017  822.30  825.90  817.82  823.87  1474000.0\n",
       "15  1/25/2017  829.62  835.77  825.06  835.67  1494500.0\n",
       "16  1/26/2017  837.81  838.00  827.01  832.15  2973900.0\n",
       "17  1/27/2017  834.71  841.95  820.44  823.31  2965800.0\n",
       "18  1/30/2017  814.66  815.84  799.80  802.32  3246600.0\n",
       "19  1/31/2017  796.86  801.25  790.52  796.79  2160600.0"
      ]
     },
     "execution_count": 95,
     "metadata": {},
     "output_type": "execute_result"
    }
   ],
   "source": [
    "dataset_test"
   ]
  },
  {
   "cell_type": "code",
   "execution_count": 96,
   "metadata": {},
   "outputs": [
    {
     "data": {
      "text/html": [
       "<div>\n",
       "<style scoped>\n",
       "    .dataframe tbody tr th:only-of-type {\n",
       "        vertical-align: middle;\n",
       "    }\n",
       "\n",
       "    .dataframe tbody tr th {\n",
       "        vertical-align: top;\n",
       "    }\n",
       "\n",
       "    .dataframe thead th {\n",
       "        text-align: right;\n",
       "    }\n",
       "</style>\n",
       "<table border=\"1\" class=\"dataframe\">\n",
       "  <thead>\n",
       "    <tr style=\"text-align: right;\">\n",
       "      <th></th>\n",
       "      <th>Open</th>\n",
       "      <th>High</th>\n",
       "      <th>Low</th>\n",
       "      <th>Close</th>\n",
       "      <th>Volume</th>\n",
       "    </tr>\n",
       "  </thead>\n",
       "  <tbody>\n",
       "    <tr>\n",
       "      <th>0</th>\n",
       "      <td>325.25</td>\n",
       "      <td>332.83</td>\n",
       "      <td>324.97</td>\n",
       "      <td>663.59</td>\n",
       "      <td>7380500.0</td>\n",
       "    </tr>\n",
       "    <tr>\n",
       "      <th>1</th>\n",
       "      <td>331.27</td>\n",
       "      <td>333.87</td>\n",
       "      <td>329.08</td>\n",
       "      <td>666.45</td>\n",
       "      <td>5749400.0</td>\n",
       "    </tr>\n",
       "    <tr>\n",
       "      <th>2</th>\n",
       "      <td>329.83</td>\n",
       "      <td>330.75</td>\n",
       "      <td>326.89</td>\n",
       "      <td>657.21</td>\n",
       "      <td>6590300.0</td>\n",
       "    </tr>\n",
       "    <tr>\n",
       "      <th>3</th>\n",
       "      <td>328.34</td>\n",
       "      <td>328.77</td>\n",
       "      <td>323.68</td>\n",
       "      <td>648.24</td>\n",
       "      <td>5405900.0</td>\n",
       "    </tr>\n",
       "    <tr>\n",
       "      <th>4</th>\n",
       "      <td>322.04</td>\n",
       "      <td>322.29</td>\n",
       "      <td>309.46</td>\n",
       "      <td>620.76</td>\n",
       "      <td>11688800.0</td>\n",
       "    </tr>\n",
       "    <tr>\n",
       "      <th>...</th>\n",
       "      <td>...</td>\n",
       "      <td>...</td>\n",
       "      <td>...</td>\n",
       "      <td>...</td>\n",
       "      <td>...</td>\n",
       "    </tr>\n",
       "    <tr>\n",
       "      <th>15</th>\n",
       "      <td>829.62</td>\n",
       "      <td>835.77</td>\n",
       "      <td>825.06</td>\n",
       "      <td>835.67</td>\n",
       "      <td>1494500.0</td>\n",
       "    </tr>\n",
       "    <tr>\n",
       "      <th>16</th>\n",
       "      <td>837.81</td>\n",
       "      <td>838.00</td>\n",
       "      <td>827.01</td>\n",
       "      <td>832.15</td>\n",
       "      <td>2973900.0</td>\n",
       "    </tr>\n",
       "    <tr>\n",
       "      <th>17</th>\n",
       "      <td>834.71</td>\n",
       "      <td>841.95</td>\n",
       "      <td>820.44</td>\n",
       "      <td>823.31</td>\n",
       "      <td>2965800.0</td>\n",
       "    </tr>\n",
       "    <tr>\n",
       "      <th>18</th>\n",
       "      <td>814.66</td>\n",
       "      <td>815.84</td>\n",
       "      <td>799.80</td>\n",
       "      <td>802.32</td>\n",
       "      <td>3246600.0</td>\n",
       "    </tr>\n",
       "    <tr>\n",
       "      <th>19</th>\n",
       "      <td>796.86</td>\n",
       "      <td>801.25</td>\n",
       "      <td>790.52</td>\n",
       "      <td>796.79</td>\n",
       "      <td>2160600.0</td>\n",
       "    </tr>\n",
       "  </tbody>\n",
       "</table>\n",
       "<p>1278 rows × 5 columns</p>\n",
       "</div>"
      ],
      "text/plain": [
       "      Open    High     Low   Close      Volume\n",
       "0   325.25  332.83  324.97  663.59   7380500.0\n",
       "1   331.27  333.87  329.08  666.45   5749400.0\n",
       "2   329.83  330.75  326.89  657.21   6590300.0\n",
       "3   328.34  328.77  323.68  648.24   5405900.0\n",
       "4   322.04  322.29  309.46  620.76  11688800.0\n",
       "..     ...     ...     ...     ...         ...\n",
       "15  829.62  835.77  825.06  835.67   1494500.0\n",
       "16  837.81  838.00  827.01  832.15   2973900.0\n",
       "17  834.71  841.95  820.44  823.31   2965800.0\n",
       "18  814.66  815.84  799.80  802.32   3246600.0\n",
       "19  796.86  801.25  790.52  796.79   2160600.0\n",
       "\n",
       "[1278 rows x 5 columns]"
      ]
     },
     "execution_count": 96,
     "metadata": {},
     "output_type": "execute_result"
    }
   ],
   "source": [
    "#getting the predicted stock price of 2017\n",
    "dataset_total = pd.concat((dataset_train[['Open', 'High', 'Low', 'Close', 'Volume']], dataset_test[['Open', 'High', 'Low', 'Close', 'Volume']]), axis = 0)\n",
    "dataset_total"
   ]
  },
  {
   "cell_type": "code",
   "execution_count": 97,
   "metadata": {},
   "outputs": [
    {
     "data": {
      "text/plain": [
       "array([[7.7900e+02, 7.8048e+02, 7.7554e+02, 7.7686e+02, 1.0707e+06],\n",
       "       [7.7966e+02, 7.7966e+02, 7.7075e+02, 7.7508e+02, 9.3320e+05],\n",
       "       [7.7771e+02, 7.8938e+02, 7.7587e+02, 7.8594e+02, 1.1749e+06],\n",
       "       [7.8666e+02, 7.9228e+02, 7.8058e+02, 7.8307e+02, 1.3725e+06],\n",
       "       [7.8376e+02, 7.8813e+02, 7.8206e+02, 7.8614e+02, 9.3740e+05],\n",
       "       [7.8122e+02, 7.8122e+02, 7.7300e+02, 7.7819e+02, 1.3653e+06],\n",
       "       [7.8165e+02, 7.8395e+02, 7.7600e+02, 7.7853e+02, 8.5250e+05],\n",
       "       [7.7980e+02, 7.8585e+02, 7.7750e+02, 7.7996e+02, 1.0930e+06],\n",
       "       [7.8785e+02, 8.0161e+02, 7.8557e+02, 7.9526e+02, 2.0569e+06],\n",
       "       [7.9824e+02, 8.0460e+02, 7.9803e+02, 8.0150e+02, 1.7668e+06],\n",
       "       [8.0330e+02, 8.0397e+02, 7.9603e+02, 7.9697e+02, 1.7575e+06],\n",
       "       [7.9500e+02, 7.9950e+02, 7.9400e+02, 7.9937e+02, 1.2662e+06],\n",
       "       [8.0490e+02, 8.1518e+02, 8.0482e+02, 8.1311e+02, 1.6975e+06],\n",
       "       [8.1668e+02, 8.1668e+02, 8.0514e+02, 8.0767e+02, 1.5764e+06],\n",
       "       [8.0634e+02, 8.0698e+02, 7.9632e+02, 7.9907e+02, 1.6477e+06],\n",
       "       [8.0100e+02, 8.0349e+02, 7.9150e+02, 7.9535e+02, 2.7492e+06],\n",
       "       [8.0835e+02, 8.1549e+02, 7.9359e+02, 7.9537e+02, 4.2699e+06],\n",
       "       [7.9547e+02, 7.9686e+02, 7.8400e+02, 7.8454e+02, 2.4273e+06],\n",
       "       [7.8289e+02, 7.8949e+02, 7.7554e+02, 7.8361e+02, 2.4064e+06],\n",
       "       [7.7820e+02, 7.8165e+02, 7.6345e+02, 7.6870e+02, 1.8724e+06],\n",
       "       [7.6725e+02, 7.6995e+02, 7.5903e+02, 7.6213e+02, 1.9432e+06],\n",
       "       [7.5066e+02, 7.7036e+02, 7.5056e+02, 7.6202e+02, 2.1348e+06],\n",
       "       [7.7450e+02, 7.8519e+02, 7.7255e+02, 7.8252e+02, 1.5851e+06],\n",
       "       [7.8340e+02, 7.9563e+02, 7.8019e+02, 7.9051e+02, 1.3669e+06],\n",
       "       [7.7994e+02, 7.9123e+02, 7.7167e+02, 7.8531e+02, 2.6071e+06],\n",
       "       [7.9117e+02, 7.9117e+02, 7.5218e+02, 7.6256e+02, 4.7452e+06],\n",
       "       [7.5654e+02, 7.6078e+02, 7.5038e+02, 7.5402e+02, 2.4318e+06],\n",
       "       [7.5560e+02, 7.5785e+02, 7.2754e+02, 7.3608e+02, 3.6544e+06],\n",
       "       [7.4697e+02, 7.6442e+02, 7.4697e+02, 7.5849e+02, 2.3840e+06],\n",
       "       [7.5520e+02, 7.6636e+02, 7.5051e+02, 7.6448e+02, 1.4726e+06],\n",
       "       [7.6692e+02, 7.7270e+02, 7.6423e+02, 7.7123e+02, 1.3040e+06],\n",
       "       [7.7137e+02, 7.7500e+02, 7.6000e+02, 7.6054e+02, 1.5471e+06],\n",
       "       [7.6261e+02, 7.6970e+02, 7.6060e+02, 7.6920e+02, 1.3306e+06],\n",
       "       [7.7263e+02, 7.7696e+02, 7.6700e+02, 7.6827e+02, 1.5931e+06],\n",
       "       [7.6773e+02, 7.6828e+02, 7.5525e+02, 7.6099e+02, 1.4784e+06],\n",
       "       [7.6426e+02, 7.6500e+02, 7.6052e+02, 7.6168e+02, 5.8740e+05],\n",
       "       [7.6000e+02, 7.7953e+02, 7.5980e+02, 7.6824e+02, 2.1882e+06],\n",
       "       [7.7153e+02, 7.7850e+02, 7.6824e+02, 7.7084e+02, 1.6166e+06],\n",
       "       [7.7007e+02, 7.7299e+02, 7.5483e+02, 7.5804e+02, 2.3929e+06],\n",
       "       [7.5744e+02, 7.5985e+02, 7.3703e+02, 7.4792e+02, 3.0179e+06],\n",
       "       [7.4459e+02, 7.5400e+02, 7.4310e+02, 7.5050e+02, 1.4525e+06],\n",
       "       [7.5771e+02, 7.6390e+02, 7.5290e+02, 7.6252e+02, 1.3942e+06],\n",
       "       [7.6473e+02, 7.6883e+02, 7.5734e+02, 7.5911e+02, 1.6907e+06],\n",
       "       [7.6100e+02, 7.7136e+02, 7.5580e+02, 7.7119e+02, 1.7610e+06],\n",
       "       [7.7248e+02, 7.7818e+02, 7.6723e+02, 7.7642e+02, 1.4881e+06],\n",
       "       [7.8000e+02, 7.8943e+02, 7.7902e+02, 7.8929e+02, 1.8219e+06],\n",
       "       [7.8504e+02, 7.9125e+02, 7.8435e+02, 7.8927e+02, 2.1041e+06],\n",
       "       [7.9390e+02, 8.0438e+02, 7.9334e+02, 7.9610e+02, 2.1452e+06],\n",
       "       [7.9740e+02, 8.0400e+02, 7.9401e+02, 7.9707e+02, 1.7042e+06],\n",
       "       [7.9734e+02, 8.0300e+02, 7.9292e+02, 7.9785e+02, 1.6265e+06],\n",
       "       [8.0040e+02, 8.0086e+02, 7.9029e+02, 7.9080e+02, 2.4438e+06],\n",
       "       [7.9022e+02, 7.9766e+02, 7.8627e+02, 7.9420e+02, 1.2321e+06],\n",
       "       [7.9676e+02, 7.9865e+02, 7.9327e+02, 7.9642e+02, 9.5100e+05],\n",
       "       [7.9584e+02, 7.9668e+02, 7.8710e+02, 7.9456e+02, 1.2113e+06],\n",
       "       [7.9236e+02, 7.9332e+02, 7.8858e+02, 7.9126e+02, 9.7220e+05],\n",
       "       [7.9090e+02, 7.9274e+02, 7.8728e+02, 7.8991e+02, 6.2340e+05],\n",
       "       [7.9068e+02, 7.9786e+02, 7.8766e+02, 7.9155e+02, 7.8910e+05],\n",
       "       [7.9370e+02, 7.9423e+02, 7.8320e+02, 7.8505e+02, 1.1538e+06],\n",
       "       [7.8333e+02, 7.8593e+02, 7.7892e+02, 7.8279e+02, 7.4430e+05],\n",
       "       [7.8275e+02, 7.8278e+02, 7.7041e+02, 7.7182e+02, 1.7700e+06],\n",
       "       [7.7881e+02, 7.8963e+02, 7.7580e+02, 7.8614e+02, 1.6573e+06],\n",
       "       [7.8836e+02, 7.9134e+02, 7.8316e+02, 7.8690e+02, 1.0730e+06],\n",
       "       [7.8608e+02, 7.9448e+02, 7.8502e+02, 7.9402e+02, 1.3352e+06],\n",
       "       [7.9526e+02, 8.0790e+02, 7.9220e+02, 8.0615e+02, 1.6402e+06],\n",
       "       [8.0640e+02, 8.0997e+02, 8.0283e+02, 8.0665e+02, 1.2724e+06],\n",
       "       [8.0786e+02, 8.0913e+02, 8.0351e+02, 8.0479e+02, 1.1768e+06],\n",
       "       [8.0500e+02, 8.0815e+02, 8.0137e+02, 8.0791e+02, 1.0659e+06],\n",
       "       [8.0714e+02, 8.0739e+02, 7.9917e+02, 8.0636e+02, 1.3531e+06],\n",
       "       [8.0748e+02, 8.1122e+02, 8.0669e+02, 8.0788e+02, 1.0992e+06],\n",
       "       [8.0708e+02, 8.0714e+02, 8.0037e+02, 8.0461e+02, 1.3621e+06],\n",
       "       [8.0581e+02, 8.0621e+02, 8.0099e+02, 8.0607e+02, 1.2944e+06],\n",
       "       [8.0512e+02, 8.0948e+02, 8.0180e+02, 8.0217e+02, 9.1930e+05],\n",
       "       [8.0691e+02, 8.0691e+02, 8.0169e+02, 8.0502e+02, 1.6700e+06],\n",
       "       [8.0725e+02, 8.2087e+02, 8.0374e+02, 8.1931e+02, 1.9636e+06],\n",
       "       [8.2230e+02, 8.2590e+02, 8.1782e+02, 8.2387e+02, 1.4740e+06],\n",
       "       [8.2962e+02, 8.3577e+02, 8.2506e+02, 8.3567e+02, 1.4945e+06],\n",
       "       [8.3781e+02, 8.3800e+02, 8.2701e+02, 8.3215e+02, 2.9739e+06],\n",
       "       [8.3471e+02, 8.4195e+02, 8.2044e+02, 8.2331e+02, 2.9658e+06],\n",
       "       [8.1466e+02, 8.1584e+02, 7.9980e+02, 8.0232e+02, 3.2466e+06],\n",
       "       [7.9686e+02, 8.0125e+02, 7.9052e+02, 7.9679e+02, 2.1606e+06]])"
      ]
     },
     "execution_count": 97,
     "metadata": {},
     "output_type": "execute_result"
    }
   ],
   "source": [
    "inputs = dataset_total[len(dataset_total) - len(dataset_test) - 60:].values\n",
    "inputs"
   ]
  },
  {
   "cell_type": "code",
   "execution_count": 98,
   "metadata": {},
   "outputs": [
    {
     "data": {
      "text/plain": [
       "array([[0.9299055 , 0.93239584, 0.9439309 , 0.39367171, 0.04256308],\n",
       "       [0.93113327, 0.93086447, 0.93485755, 0.39121867, 0.03705647],\n",
       "       [0.92750577, 0.94901675, 0.94455599, 0.40618497, 0.04673608],\n",
       "       [0.94415507, 0.95443255, 0.9534778 , 0.40222979, 0.05464958],\n",
       "       [0.93876032, 0.94668235, 0.95628125, 0.40646059, 0.03722467],\n",
       "       [0.93403527, 0.9337778 , 0.93911956, 0.3955046 , 0.05436123],\n",
       "       [0.93483518, 0.93887613, 0.94480224, 0.39597315, 0.03382459],\n",
       "       [0.9313937 , 0.94242441, 0.94764358, 0.39794386, 0.04345615],\n",
       "       [0.94636878, 0.9718565 , 0.96292999, 0.41902898, 0.08205847],\n",
       "       [0.96569685, 0.97744038, 0.98653205, 0.42762841, 0.07044053],\n",
       "       [0.97510976, 0.97626384, 0.9827436 , 0.42138555, 0.07006808],\n",
       "       [0.95966962, 0.96791604, 0.97889832, 0.42469303, 0.05039247],\n",
       "       [0.97808617, 0.99719872, 0.99939385, 0.4436283 , 0.0676652 ],\n",
       "       [1.        , 1.        , 1.        , 0.43613136, 0.06281538],\n",
       "       [0.98076494, 0.98188507, 0.98329292, 0.42427959, 0.0656708 ],\n",
       "       [0.97083116, 0.97536743, 0.97416275, 0.41915301, 0.10978374],\n",
       "       [0.98450406, 0.99777765, 0.97812169, 0.41918057, 0.17068482],\n",
       "       [0.96054394, 0.96298579, 0.95995605, 0.40425561, 0.09689227],\n",
       "       [0.9371419 , 0.94922218, 0.9439309 , 0.40297397, 0.09605527],\n",
       "       [0.92841729, 0.93458084, 0.9210297 , 0.38242631, 0.0746696 ],\n",
       "       [0.90804747, 0.91273087, 0.91265722, 0.3733721 , 0.07750501],\n",
       "       [0.8771858 , 0.91349655, 0.89661312, 0.37322051, 0.08517821],\n",
       "       [0.92153434, 0.94119185, 0.93826716, 0.40147182, 0.0631638 ],\n",
       "       [0.93809063, 0.96068874, 0.95273905, 0.41248295, 0.05442531],\n",
       "       [0.93165414, 0.95247166, 0.93660024, 0.40531676, 0.10409291],\n",
       "       [0.95254483, 0.95235961, 0.89968177, 0.37396469, 0.18971966],\n",
       "       [0.88812412, 0.89560573, 0.89627216, 0.36219561, 0.09707249],\n",
       "       [0.88637547, 0.8901339 , 0.85300803, 0.33747227, 0.14603524],\n",
       "       [0.87032145, 0.9024035 , 0.88981285, 0.36835577, 0.09515819],\n",
       "       [0.88563137, 0.90602648, 0.89651841, 0.37661067, 0.05865839],\n",
       "       [0.90743359, 0.91786655, 0.9225072 , 0.38591293, 0.05190629],\n",
       "       [0.91571173, 0.92216184, 0.91449462, 0.3711809 , 0.06164197],\n",
       "       [0.89941588, 0.91226399, 0.91563116, 0.38311536, 0.05297157],\n",
       "       [0.91805566, 0.92582217, 0.92775421, 0.38183372, 0.06348418],\n",
       "       [0.9089404 , 0.90961212, 0.90549705, 0.37180106, 0.05889067],\n",
       "       [0.9024853 , 0.90348666, 0.91547962, 0.37275195, 0.02320785],\n",
       "       [0.89456061, 0.9306217 , 0.91411578, 0.38179237, 0.08731678],\n",
       "       [0.91600938, 0.92869815, 0.93010305, 0.38537547, 0.06442531],\n",
       "       [0.9132934 , 0.91840813, 0.90470147, 0.36773562, 0.09551462],\n",
       "       [0.88979835, 0.89386894, 0.87098424, 0.35378912, 0.12054465],\n",
       "       [0.86589404, 0.88294396, 0.88248219, 0.35734465, 0.05785342],\n",
       "       [0.89030062, 0.90143239, 0.90104561, 0.37390957, 0.05551862],\n",
       "       [0.90335962, 0.91063925, 0.90945598, 0.3692102 , 0.06739287],\n",
       "       [0.89642086, 0.91536407, 0.90653887, 0.38585781, 0.07020825],\n",
       "       [0.91777662, 0.92810055, 0.92818988, 0.39306534, 0.05927913],\n",
       "       [0.93176576, 0.94911013, 0.95052281, 0.41080165, 0.07264718],\n",
       "       [0.94114145, 0.95250901, 0.96061903, 0.41077409, 0.08394874],\n",
       "       [0.95762334, 0.97702953, 0.97764813, 0.4201866 , 0.08559471],\n",
       "       [0.96413424, 0.97631987, 0.97891726, 0.42152337, 0.06793352],\n",
       "       [0.96402262, 0.97445235, 0.97685255, 0.42259829, 0.06482179],\n",
       "       [0.96971501, 0.97045586, 0.97187074, 0.4128826 , 0.09755306],\n",
       "       [0.95077759, 0.9644798 , 0.96425595, 0.41756818, 0.04902683],\n",
       "       [0.96294367, 0.96632865, 0.97751553, 0.42062759, 0.03776932],\n",
       "       [0.96123223, 0.96264963, 0.96582816, 0.4180643 , 0.04819383],\n",
       "       [0.95475854, 0.95637477, 0.96863161, 0.41351653, 0.03861834],\n",
       "       [0.95204256, 0.95529161, 0.96616912, 0.41165608, 0.02464958],\n",
       "       [0.95163331, 0.96485331, 0.96688892, 0.41391618, 0.03128554],\n",
       "       [0.95725128, 0.95807422, 0.95844067, 0.40495845, 0.04589107],\n",
       "       [0.93796041, 0.94257381, 0.95033338, 0.40184391, 0.02949139],\n",
       "       [0.93688146, 0.93669113, 0.93421352, 0.38672602, 0.07056868],\n",
       "       [0.92955205, 0.94948363, 0.9444234 , 0.40646059, 0.06605527],\n",
       "       [0.94731751, 0.95267709, 0.9583649 , 0.40750796, 0.04265519],\n",
       "       [0.94307612, 0.95854109, 0.96188816, 0.41732012, 0.05315579],\n",
       "       [0.96015329, 0.98360319, 0.97548871, 0.43403663, 0.06537044],\n",
       "       [0.98087655, 0.98746895, 0.99562434, 0.43472569, 0.05064077],\n",
       "       [0.98359253, 0.98590024, 0.99691241, 0.4321624 , 0.04681217],\n",
       "       [0.97827219, 0.98407007, 0.99285877, 0.43646211, 0.04237085],\n",
       "       [0.98225314, 0.98265076, 0.98869147, 0.43432603, 0.05387265],\n",
       "       [0.98288563, 0.98980335, 1.00293605, 0.43642077, 0.04370445],\n",
       "       [0.98214153, 0.98218388, 0.99096454, 0.43191434, 0.05423308],\n",
       "       [0.979779  , 0.98044708, 0.99213896, 0.43392638, 0.05152183],\n",
       "       [0.97849542, 0.98655387, 0.99367328, 0.42855174, 0.0364998 ],\n",
       "       [0.98182528, 0.98175435, 0.99346492, 0.43247936, 0.06656388],\n",
       "       [0.98245777, 1.0078249 , 0.99734808, 0.45217259, 0.07832199],\n",
       "       [1.01045465, 1.01721852, 1.02401879, 0.45845679, 0.05871446],\n",
       "       [1.02407173, 1.03565092, 1.03773299, 0.47471852, 0.05953544],\n",
       "       [1.03930724, 1.03981549, 1.04142673, 0.46986756, 0.11878254],\n",
       "       [1.03354044, 1.04719219, 1.02898166, 0.45768505, 0.11845815],\n",
       "       [0.99624228, 0.99843128, 0.98988483, 0.42875846, 0.12970364],\n",
       "       [0.9631297 , 0.97118419, 0.97230641, 0.42113749, 0.08621145]])"
      ]
     },
     "execution_count": 98,
     "metadata": {},
     "output_type": "execute_result"
    }
   ],
   "source": [
    "#scaling these inputs\n",
    "inputs[:, 0:1] = sc_open.transform(inputs[:, 0:1])\n",
    "inputs[:, 1:5] = sc_remaining.transform(inputs[:, 1:5])\n",
    "inputs"
   ]
  },
  {
   "cell_type": "code",
   "execution_count": 99,
   "metadata": {},
   "outputs": [
    {
     "data": {
      "text/plain": [
       "80"
      ]
     },
     "execution_count": 99,
     "metadata": {},
     "output_type": "execute_result"
    }
   ],
   "source": [
    "len(inputs)"
   ]
  },
  {
   "cell_type": "code",
   "execution_count": 100,
   "metadata": {},
   "outputs": [],
   "source": [
    "#creating a data structure with 60 timesteps for test set\n",
    "X_test = []\n",
    "for i in range(60, 80):\n",
    "    X_test.append(inputs[i-60:i])"
   ]
  },
  {
   "cell_type": "code",
   "execution_count": 101,
   "metadata": {},
   "outputs": [
    {
     "data": {
      "text/plain": [
       "numpy.ndarray"
      ]
     },
     "execution_count": 101,
     "metadata": {},
     "output_type": "execute_result"
    }
   ],
   "source": [
    "X_test = np.array(X_test)\n",
    "type(X_test)"
   ]
  },
  {
   "cell_type": "code",
   "execution_count": 102,
   "metadata": {},
   "outputs": [
    {
     "data": {
      "text/plain": [
       "(20, 60, 5)"
      ]
     },
     "execution_count": 102,
     "metadata": {},
     "output_type": "execute_result"
    }
   ],
   "source": [
    "X_test.shape"
   ]
  },
  {
   "cell_type": "code",
   "execution_count": 103,
   "metadata": {},
   "outputs": [
    {
     "data": {
      "text/plain": [
       "array([[0.9299055 , 0.93239584, 0.9439309 , 0.39367171, 0.04256308],\n",
       "       [0.93113327, 0.93086447, 0.93485755, 0.39121867, 0.03705647],\n",
       "       [0.92750577, 0.94901675, 0.94455599, 0.40618497, 0.04673608],\n",
       "       [0.94415507, 0.95443255, 0.9534778 , 0.40222979, 0.05464958],\n",
       "       [0.93876032, 0.94668235, 0.95628125, 0.40646059, 0.03722467],\n",
       "       [0.93403527, 0.9337778 , 0.93911956, 0.3955046 , 0.05436123],\n",
       "       [0.93483518, 0.93887613, 0.94480224, 0.39597315, 0.03382459],\n",
       "       [0.9313937 , 0.94242441, 0.94764358, 0.39794386, 0.04345615],\n",
       "       [0.94636878, 0.9718565 , 0.96292999, 0.41902898, 0.08205847],\n",
       "       [0.96569685, 0.97744038, 0.98653205, 0.42762841, 0.07044053],\n",
       "       [0.97510976, 0.97626384, 0.9827436 , 0.42138555, 0.07006808],\n",
       "       [0.95966962, 0.96791604, 0.97889832, 0.42469303, 0.05039247],\n",
       "       [0.97808617, 0.99719872, 0.99939385, 0.4436283 , 0.0676652 ],\n",
       "       [1.        , 1.        , 1.        , 0.43613136, 0.06281538],\n",
       "       [0.98076494, 0.98188507, 0.98329292, 0.42427959, 0.0656708 ],\n",
       "       [0.97083116, 0.97536743, 0.97416275, 0.41915301, 0.10978374],\n",
       "       [0.98450406, 0.99777765, 0.97812169, 0.41918057, 0.17068482],\n",
       "       [0.96054394, 0.96298579, 0.95995605, 0.40425561, 0.09689227],\n",
       "       [0.9371419 , 0.94922218, 0.9439309 , 0.40297397, 0.09605527],\n",
       "       [0.92841729, 0.93458084, 0.9210297 , 0.38242631, 0.0746696 ],\n",
       "       [0.90804747, 0.91273087, 0.91265722, 0.3733721 , 0.07750501],\n",
       "       [0.8771858 , 0.91349655, 0.89661312, 0.37322051, 0.08517821],\n",
       "       [0.92153434, 0.94119185, 0.93826716, 0.40147182, 0.0631638 ],\n",
       "       [0.93809063, 0.96068874, 0.95273905, 0.41248295, 0.05442531],\n",
       "       [0.93165414, 0.95247166, 0.93660024, 0.40531676, 0.10409291],\n",
       "       [0.95254483, 0.95235961, 0.89968177, 0.37396469, 0.18971966],\n",
       "       [0.88812412, 0.89560573, 0.89627216, 0.36219561, 0.09707249],\n",
       "       [0.88637547, 0.8901339 , 0.85300803, 0.33747227, 0.14603524],\n",
       "       [0.87032145, 0.9024035 , 0.88981285, 0.36835577, 0.09515819],\n",
       "       [0.88563137, 0.90602648, 0.89651841, 0.37661067, 0.05865839],\n",
       "       [0.90743359, 0.91786655, 0.9225072 , 0.38591293, 0.05190629],\n",
       "       [0.91571173, 0.92216184, 0.91449462, 0.3711809 , 0.06164197],\n",
       "       [0.89941588, 0.91226399, 0.91563116, 0.38311536, 0.05297157],\n",
       "       [0.91805566, 0.92582217, 0.92775421, 0.38183372, 0.06348418],\n",
       "       [0.9089404 , 0.90961212, 0.90549705, 0.37180106, 0.05889067],\n",
       "       [0.9024853 , 0.90348666, 0.91547962, 0.37275195, 0.02320785],\n",
       "       [0.89456061, 0.9306217 , 0.91411578, 0.38179237, 0.08731678],\n",
       "       [0.91600938, 0.92869815, 0.93010305, 0.38537547, 0.06442531],\n",
       "       [0.9132934 , 0.91840813, 0.90470147, 0.36773562, 0.09551462],\n",
       "       [0.88979835, 0.89386894, 0.87098424, 0.35378912, 0.12054465],\n",
       "       [0.86589404, 0.88294396, 0.88248219, 0.35734465, 0.05785342],\n",
       "       [0.89030062, 0.90143239, 0.90104561, 0.37390957, 0.05551862],\n",
       "       [0.90335962, 0.91063925, 0.90945598, 0.3692102 , 0.06739287],\n",
       "       [0.89642086, 0.91536407, 0.90653887, 0.38585781, 0.07020825],\n",
       "       [0.91777662, 0.92810055, 0.92818988, 0.39306534, 0.05927913],\n",
       "       [0.93176576, 0.94911013, 0.95052281, 0.41080165, 0.07264718],\n",
       "       [0.94114145, 0.95250901, 0.96061903, 0.41077409, 0.08394874],\n",
       "       [0.95762334, 0.97702953, 0.97764813, 0.4201866 , 0.08559471],\n",
       "       [0.96413424, 0.97631987, 0.97891726, 0.42152337, 0.06793352],\n",
       "       [0.96402262, 0.97445235, 0.97685255, 0.42259829, 0.06482179],\n",
       "       [0.96971501, 0.97045586, 0.97187074, 0.4128826 , 0.09755306],\n",
       "       [0.95077759, 0.9644798 , 0.96425595, 0.41756818, 0.04902683],\n",
       "       [0.96294367, 0.96632865, 0.97751553, 0.42062759, 0.03776932],\n",
       "       [0.96123223, 0.96264963, 0.96582816, 0.4180643 , 0.04819383],\n",
       "       [0.95475854, 0.95637477, 0.96863161, 0.41351653, 0.03861834],\n",
       "       [0.95204256, 0.95529161, 0.96616912, 0.41165608, 0.02464958],\n",
       "       [0.95163331, 0.96485331, 0.96688892, 0.41391618, 0.03128554],\n",
       "       [0.95725128, 0.95807422, 0.95844067, 0.40495845, 0.04589107],\n",
       "       [0.93796041, 0.94257381, 0.95033338, 0.40184391, 0.02949139],\n",
       "       [0.93688146, 0.93669113, 0.93421352, 0.38672602, 0.07056868]])"
      ]
     },
     "execution_count": 103,
     "metadata": {},
     "output_type": "execute_result"
    }
   ],
   "source": [
    "#these are the previous 60 stock prices of the first financial day of Jan, 2017\n",
    "#basically this is the last 3 months data from the train set\n",
    "X_test[0]"
   ]
  },
  {
   "cell_type": "code",
   "execution_count": 104,
   "metadata": {},
   "outputs": [
    {
     "data": {
      "text/plain": [
       "(20, 60, 5)"
      ]
     },
     "execution_count": 104,
     "metadata": {},
     "output_type": "execute_result"
    }
   ],
   "source": [
    "X_test.shape"
   ]
  },
  {
   "cell_type": "code",
   "execution_count": 105,
   "metadata": {},
   "outputs": [
    {
     "data": {
      "text/plain": [
       "0.9299054989210507"
      ]
     },
     "execution_count": 105,
     "metadata": {},
     "output_type": "execute_result"
    }
   ],
   "source": [
    "X_test[0][0][0]"
   ]
  },
  {
   "cell_type": "code",
   "execution_count": 106,
   "metadata": {},
   "outputs": [
    {
     "data": {
      "text/plain": [
       "array([[775.01227],\n",
       "       [773.6601 ],\n",
       "       [774.75244],\n",
       "       [776.93414],\n",
       "       [780.68884],\n",
       "       [785.00946],\n",
       "       [787.7765 ],\n",
       "       [788.7251 ],\n",
       "       [788.5361 ],\n",
       "       [789.3837 ],\n",
       "       [789.57166],\n",
       "       [789.5474 ],\n",
       "       [789.66113],\n",
       "       [790.134  ],\n",
       "       [792.078  ],\n",
       "       [796.1482 ],\n",
       "       [801.46466],\n",
       "       [805.3023 ],\n",
       "       [805.63696],\n",
       "       [799.67737]], dtype=float32)"
      ]
     },
     "execution_count": 106,
     "metadata": {},
     "output_type": "execute_result"
    }
   ],
   "source": [
    "#predicting the stock prices of Jan, 2017 and scaling it back\n",
    "predictedStockPrice = sc_open.inverse_transform(regressor.predict(X_test))\n",
    "predictedStockPrice"
   ]
  },
  {
   "cell_type": "code",
   "execution_count": 107,
   "metadata": {},
   "outputs": [
    {
     "data": {
      "image/png": "[encoded data removed]",
      "text/plain": [
       "<Figure size 432x288 with 1 Axes>"
      ]
     },
     "metadata": {
      "needs_background": "light"
     },
     "output_type": "display_data"
    }
   ],
   "source": [
    "#Visualising the predictions over the real stock prices\n",
    "plt.plot(realStockPrice, color = 'red', label = 'Real Google Stock Price')\n",
    "plt.plot(predictedStockPrice, color = 'blue', label = 'Predicted Google Stock Price')\n",
    "plt.title('Google Stock Price Prediction')\n",
    "plt.xlabel('Time')\n",
    "plt.ylabel('Google Stock Price')\n",
    "plt.legend()\n",
    "plt.show()"
   ]
  },
  {
   "cell_type": "code",
   "execution_count": 111,
   "metadata": {},
   "outputs": [
    {
     "data": {
      "image/png": "[encoded data removed]",
      "text/plain": [
       "<Figure size 432x288 with 1 Axes>"
      ]
     },
     "metadata": {
      "needs_background": "light"
     },
     "output_type": "display_data"
    }
   ],
   "source": [
    "plt.scatter(range(20), predictedStockPrice, c = 'r')\n",
    "plt.scatter(range(20), realStockPrice, c = 'g')\n",
    "plt.show()"
   ]
  },
  {
   "cell_type": "code",
   "execution_count": null,
   "metadata": {},
   "outputs": [],
   "source": []
  },
  {
   "cell_type": "code",
   "execution_count": 108,
   "metadata": {},
   "outputs": [],
   "source": [
    "import math\n",
    "from sklearn.metrics import mean_squared_error\n",
    "rmse = math.sqrt(mean_squared_error(realStockPrice, predictedStockPrice))"
   ]
  },
  {
   "cell_type": "code",
   "execution_count": 109,
   "metadata": {},
   "outputs": [
    {
     "data": {
      "text/plain": [
       "20.725841767727744"
      ]
     },
     "execution_count": 109,
     "metadata": {},
     "output_type": "execute_result"
    }
   ],
   "source": [
    "rmse"
   ]
  },
  {
   "cell_type": "code",
   "execution_count": 110,
   "metadata": {},
   "outputs": [
    {
     "data": {
      "text/plain": [
       "429.56051698088794"
      ]
     },
     "execution_count": 110,
     "metadata": {},
     "output_type": "execute_result"
    }
   ],
   "source": [
    "mean_squared_error(realStockPrice, predictedStockPrice)"
   ]
  },
  {
   "cell_type": "code",
   "execution_count": null,
   "metadata": {},
   "outputs": [],
   "source": []
  }
 ],
 "metadata": {
  "kernelspec": {
   "display_name": "Python 3.7 (tensorflow)",
   "language": "python",
   "name": "tensorflow"
  },
  "language_info": {
   "codemirror_mode": {
    "name": "ipython",
    "version": 3
   },
   "file_extension": ".py",
   "mimetype": "text/x-python",
   "name": "python",
   "nbconvert_exporter": "python",
   "pygments_lexer": "ipython3",
   "version": "3.7.7"
  }
 },
 "nbformat": 4,
 "nbformat_minor": 4
}
